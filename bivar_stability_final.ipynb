{
 "cells": [
  {
   "cell_type": "markdown",
   "metadata": {},
   "source": [
    "# Visualization of calculating bivariate co-moments stability \n",
    "\n",
    "\n"
   ]
  },
  {
   "cell_type": "markdown",
   "metadata": {},
   "source": [
    "This notebook calculates bivariate co-moments of normal and uniform distributions, and interactively visualise the results. It's possible to change the distribution parameters to show how they affect the results."
   ]
  },
  {
   "cell_type": "markdown",
   "metadata": {},
   "source": [
    "### The calculation code"
   ]
  },
  {
   "cell_type": "code",
   "execution_count": 1,
   "metadata": {},
   "outputs": [],
   "source": [
    "from operator import mul as _opmul\n",
    "from functools import partial, reduce\n",
    "from itertools import product as _prod, combinations_with_replacement as _combu, starmap as _star\n",
    "from multiprocessing import Pool\n",
    "from timeit import timeit, default_timer as timer\n",
    "\n",
    "import numpy as np\n",
    "import numpy.linalg as la\n",
    "from scipy.special import comb\n",
    "from scipy.linalg import blas\n",
    "\n",
    "# Plotting Packages\n",
    "import matplotlib.pyplot as plt\n",
    "import ipywidgets as widgets"
   ]
  },
  {
   "cell_type": "code",
   "execution_count": 2,
   "metadata": {},
   "outputs": [],
   "source": [
    "plt.rcParams['figure.figsize'] = 10, 5\n",
    "plt.rcParams['figure.facecolor'] = 'white'\n",
    "\n",
    "# np.set_printoptions(precision=20)\n",
    "np.set_printoptions(linewidth=120, precision=8, suppress=False, formatter={'float': '{:+5.3e}'.format})"
   ]
  },
  {
   "cell_type": "code",
   "execution_count": 3,
   "metadata": {},
   "outputs": [],
   "source": [
    "# These functions produce equvalent layouts, which correspond to double and python integer types.\n",
    "def trace_layout_h(traces, moment):\n",
    "    \"\"\" Prepare horizontal trace layout (m x n), used for double precition float \"\"\"\n",
    "    tr_count, tr_len = len(traces), len(traces[0])\n",
    "    dtype=np.promote_types(np.result_type(traces[0][0]), 'i8')\n",
    "    print(dtype)\n",
    "    trace_copy = np.empty((tr_count, 2 * moment * tr_len + 1), dtype=dtype)\n",
    "    trace_copy[:] = -1\n",
    "    trace_copy[:, 0] = 1\n",
    "    trace_copy_view = trace_copy[:, 1:].reshape(tr_count, 2 * moment, tr_len)\n",
    "    for i, tr in enumerate(traces):\n",
    "        trace_copy_view[i, 0] = tr\n",
    "    for j in range(1, 2 * moment):\n",
    "        np.multiply(trace_copy_view[:, 0, :], trace_copy_view[:, j - 1, :], trace_copy_view[:, j, :])\n",
    "    \n",
    "    return trace_copy\n",
    "\n",
    "def trace_layout_v(traces, moment):\n",
    "    \"\"\" Prepare vertical trace layout (n x m), used for python integer types \"\"\"\n",
    "    tr_count, tr_len = len(traces), len(traces[0])\n",
    "    dtype=np.promote_types(np.result_type(traces[0][0]), 'i8')\n",
    "    trace_copy = np.empty((tr_count, 2 * moment * tr_len + 1), dtype=dtype)\n",
    "    trace_copy[:] = -1\n",
    "    trace_copy[:, 0] = 1\n",
    "    trace_copy_view = trace_copy[:, 1:].reshape(tr_count, 2 * moment, tr_len)\n",
    "    for i, tr in enumerate(traces):\n",
    "        trace_copy_view[i, 0] = tr\n",
    "    C, l = trace_copy.T.tolist(), tr_len\n",
    "    for j in range(1, 2 * moment):\n",
    "        for i in range(l):\n",
    "            C[1+(j)*l:1+(j+1)*l][i][:] = vmul(C[1+0*l:1+1*l][i], C[1+(j-1)*l:1+(j)*l][i])\n",
    "    return C"
   ]
  },
  {
   "cell_type": "code",
   "execution_count": 4,
   "metadata": {},
   "outputs": [],
   "source": [
    "# Working with python data types: arbitrary precition integers and lists\n",
    "def binom(N, k):\n",
    "    return comb(N, k, exact=True)\n",
    "\n",
    "def vmul(x, y):\n",
    "    \"\"\"Fast python element-wise multiplication\"\"\"\n",
    "    return map(_opmul, x, y)\n",
    "\n",
    "def summul_gen():\n",
    "    _compose_star = lambda f, g: lambda *args: f(g(*args))\n",
    "    return reduce(_compose_star, (sum, partial(map, _opmul)))  # Fast python dot-product for lists\n",
    "\n",
    "summul = summul_gen()\n",
    "\n",
    "def mmuls(A):\n",
    "    \"\"\"Square matrix multiplication A'*A\"\"\"\n",
    "    return [[summul(_a, _b) for _a in A] for _b in A]        # fastest for 700x10, 20x10k\n",
    "\n",
    "def mmult(A):\n",
    "    \"\"\"Upper triangular matrix multiplication A'*A\"\"\"\n",
    "    return list(_star(summul, _combu(A, 2)))                 # fastest for 700x10\n",
    "\n",
    "def dotcols(A, i):\n",
    "    return [summul(A[i], A[j]) for j in range(len(A))]       # dot-product for all cols per row"
   ]
  },
  {
   "cell_type": "code",
   "execution_count": 5,
   "metadata": {},
   "outputs": [],
   "source": [
    "# This save-read module trick fixes a jupyter bug in applying\n",
    "# Pool().map over functions when this notebook runs on Windows\n",
    "import inspect\n",
    "mod_sources = (summul_gen,  dotcols)\n",
    "func_bodies = list(map(inspect.getsource, mod_sources))\n",
    "\n",
    "# store_ = print # debugging\n",
    "with open('mod_mmpar.py', 'w') as h:\n",
    "    store_ = h.write\n",
    "    store_('from operator import mul as _opmul\\n')\n",
    "    store_('from functools import partial, reduce\\n\\n')\n",
    "    for fb in func_bodies:\n",
    "        store_(fb)\n",
    "        store_('\\n')\n",
    "    store_('summul = summul_gen()')\n",
    "\n",
    "from mod_mmpar import summul, dotcols\n",
    "\n",
    "def mmulsip(A):\n",
    "    \"\"\"Square matrix multiplication (process-parallel)\"\"\"\n",
    "    with Pool(16) as p:\n",
    "        return list(p.map(partial(dotcols, A), range(len(A))))"
   ]
  },
  {
   "cell_type": "code",
   "execution_count": 6,
   "metadata": {},
   "outputs": [],
   "source": [
    "# Main function to convert an accumulator sub-block into a co-moment\n",
    "# This code works with both integer lists and numpy matrices\n",
    "\n",
    "def _get_mom(bin, tr_len, i, j, _i, _j):\n",
    "  # The full accumulator required as it works with python list of lists\n",
    "  return bin[1 + i*tr_len + _i][1 + j*tr_len + _j]\n",
    "\n",
    "def calc_central_moments_sums(mom, asum, tr_len, n, k, l, i):\n",
    "  \"\"\"Convert accumulated sums to co-moments for a given data point\"\"\"\n",
    "  trace = False\n",
    "  sum_i, sum_j = asum[i], asum[i:tr_len]\n",
    "  inv_n = 1.0 / n**(k+l+1)\n",
    "\n",
    "  res3, res4 = [[] for _sj in sum_j], [[] for _sj in sum_j]\n",
    "\n",
    "  res = [n * (-1) ** (k + l) * (1 - k - l) * sum_i ** k * _sj ** l for _sj in sum_j]\n",
    "\n",
    "  for _i, _sj in enumerate(sum_j):\n",
    "    _j = i + _i\n",
    "    for p in range(2, k + 1):\n",
    "      Mp, s1, s2 = _get_mom(mom, tr_len, 0, p-2, i, i), sum_i**(k - p), _sj**l\n",
    "      rr = n**p * (-1)**(k + l - p) * binom(k, p) * Mp * s1 * s2\n",
    "      res4[_i].append(rr)\n",
    "      if trace: print('\\t{:5.3e} {:+22.16e}, {:7}**{:2d} = {:+22.16e}, {:7}**{:2d} = {:+22.16e}, := {:+22.16e}'.format(\n",
    "        float(n**p), Mp, int(sum_i), (k - p), s1, int(_sj), l, s2, rr))\n",
    "\n",
    "    for q in range(2, l + 1):\n",
    "      Mq, s1, s2 = _get_mom(mom, tr_len, 0, q-2, _j, _j), sum_i**k, _sj**(l - q)\n",
    "      rr = n**q * (-1)**(k + l - q) * binom(l, q) * Mq * s1 * s2\n",
    "      res4[_i].append(rr)\n",
    "      if trace: print('\\t{:5.3e} {:+22.16e}, {:7}**{:2d} = {:+22.16e}, {:7}**{:2d} = {:+22.16e}, := {:+22.16e}'.format(\n",
    "        float(n**q), Mq, int(sum_i), k, s1, int(_sj), (l - q), s2, rr))\n",
    "  if trace: print(\"========\")\n",
    "\n",
    "  for _i, _sj in enumerate(sum_j):\n",
    "    _j = i + _i\n",
    "    for p in range(1, k + 1):\n",
    "      for q in range(1, l + 1):\n",
    "        Mpq = _get_mom(mom, tr_len, p-1, q-1, i, _j) if p <= q else _get_mom(mom, tr_len, q-1, p-1, _j, i)\n",
    "        s1 = sum_i ** (k - p)\n",
    "        s2 =   _sj ** (l - q)\n",
    "        rr = n**p * n**q * (-1) ** (k + l - p - q) * binom(k, p) * binom(l, q) * Mpq * s1 * s2\n",
    "        #res[_i] += rr\n",
    "        res3[_i].append(rr)\n",
    "        if trace: print('\\t{:+22.16e}, {:7}**{:1d} = {:+22.16e}, {:7}**{:1d} = {:+22.16e}, := {:+22.16e}'.format(\n",
    "          Mpq, int(sum_i), (k - p), s1, int(_sj), (l - q), s2, rr))\n",
    "\n",
    "  res4s = list(map(sorted, res4))\n",
    "  if trace: \n",
    "      print(\"Edge products to sum: \")     # Print out the list of products of full degrees\n",
    "      for r4s in res4s: list(map(print, ['{:+22.16e}'.format(r) for r in r4s] + ['--------']))\n",
    "\n",
    "  res3s = list(map(sorted, res3))\n",
    "  if trace: \n",
    "      print(\"Mixed products to sum: \")    # Print out the list of products of intermediate degrees\n",
    "      for r3s in res3s: list(map(print, ['{:+22.16e}'.format(r) for r in r3s] + ['--------']))\n",
    "\n",
    "  if trace: print(\"\")\n",
    "\n",
    "  if trace: print(\"Conversion result step1:    {} ({})\".format(['{:+22.16e}'.format(r) for r in res], res))\n",
    "\n",
    "  res_dge = list(map(sum, res4))                 # Sum up products of edge degrees\n",
    "  if trace: print(\"Edge products summed up:   \", ['{:+22.16e}'.format(r) for r in res_dge])\n",
    "\n",
    "  res = [sum(r) for r in zip(res, res_dge)]\n",
    "  if trace: print(\"Conversion result step2:    {} ({})\".format(['{:+22.16e}'.format(r) for r in res], res))\n",
    "\n",
    "  res_int = list(map(sum, res3))                 # Sum up products of intermediate degrees\n",
    "  if trace: print(\"Mixed products summed up:  \", ['{:+22.16e}'.format(r) for r in res_int])\n",
    "\n",
    "  res = [sum(r) for r in zip(res, res_int)]\n",
    "  if trace: print(\"Conversion result step3:    {} ({})\".format(['{:+22.16e}'.format(r) for r in res], res))\n",
    "\n",
    "  res = [r * inv_n for r in res]\n",
    "  if trace: print(\"Final result and inv_n:    \", ['{:+22.16e}'.format(r) for r in res], inv_n)\n",
    "  if trace: print('========')\n",
    "\n",
    "  return res"
   ]
  },
  {
   "cell_type": "code",
   "execution_count": 7,
   "metadata": {},
   "outputs": [],
   "source": [
    "# Conversion of accumulated sums to co-moments\n",
    "def _block_index(i, ll):\n",
    "    \"\"\"Find a block initial index in the triangular view for a given data point\"\"\"\n",
    "    k = slice(ll * i - (i - 1) * i // 2, ll * (i + 1) - (i + 1) * i // 2)\n",
    "    return k\n",
    "\n",
    "def sums2moms(moms, sums, tr_len, n, lm, rm, ave1st):\n",
    "    \"\"\"Find a specific co-moment triangle matrix for all data points and given left and right degrees\"\"\"\n",
    "    retm = np.empty((2, tr_len * (tr_len + 1) // 2), dtype=np.float64)\n",
    "    cm_func = calc_central_moments_sums\n",
    "    for i in range(tr_len):\n",
    "        k = _block_index(i, tr_len)\n",
    "        retm[0, k] = cm_func(moms, sums, tr_len, n, lm, rm, i)\n",
    "    return retm[0]\n",
    "\n",
    "def ttest_terms(acc, moment, ave1st=False):\n",
    "    \"\"\"Find all required co-moments for Welch's t-test for all data points\"\"\"\n",
    "    tr_len = (len(acc)-1) // moment // 2\n",
    "    n0, sum0 = acc[0][0], acc[0][1:1+tr_len]\n",
    "    return np.stack([sums2moms(acc, sum0, tr_len, n0, lm, rm, ave1st) for lm, rm in _combu(range(1, moment+1), 2)])"
   ]
  },
  {
   "cell_type": "code",
   "execution_count": 8,
   "metadata": {},
   "outputs": [],
   "source": [
    "# Find all stages of co-moment calculation\n",
    "def stages_fine(a, moment):\n",
    "    \"\"\" Find all processing stages in python arbitrary precision integers\"\"\"\n",
    "    av = trace_layout_v(a.tolist(), moment)\n",
    "#     acc = mmuls(av)   # Sinle process\n",
    "    acc = mmulsip(av) # Multiprocess\n",
    "    fine_res = ttest_terms(acc, moment)\n",
    "    return av, acc, fine_res\n",
    "\n",
    "def stages_float_sums(a, moment):\n",
    "    \"\"\" Find all processing stages in doubles\"\"\"\n",
    "    ah = trace_layout_h(a.astype(np.float64), moment)\n",
    "    bin1 = np.dot(ah.T, ah) # A*A'\n",
    "    float_res = ttest_terms(bin1, moment, ave1st=False)\n",
    "    return ah.T, bin1, float_res\n",
    "\n",
    "def stages_float_detrend(a, moment):\n",
    "    \"\"\" Find all processing stages in doubles with detrending\"\"\"\n",
    "    dt_num = max(len(a)//10, 3)\n",
    "    a = a - np.mean(a[:dt_num], axis=0).astype(np.int64) # integer mean\n",
    "    return stages_float_sums(a, moment)"
   ]
  },
  {
   "cell_type": "code",
   "execution_count": 9,
   "metadata": {},
   "outputs": [],
   "source": [
    "def error_estimation(fine, real, m=None):\n",
    "    \"\"\"Estimate absolute and relative errors for layout or co-moments\"\"\"\n",
    "    # Abs err\n",
    "    abs_err = np.abs(fine - real).astype(np.float64)\n",
    "    # Rel err\n",
    "    max_fine = np.tile(np.max(np.abs(fine), axis=1)[:, np.newaxis], reps=abs_err.shape[1])\n",
    "    return abs_err, abs_err / max_fine\n",
    "\n",
    "def error_estimation_acc(fine, real, m):\n",
    "    \"\"\"Estimate absolute and relative errors for accumulator\"\"\"\n",
    "    l = (len(fine[0]) - 1) // 2 // m\n",
    "    # Abs err\n",
    "    abs_err = np.abs(fine - real).astype(np.float64)[1:,1:]\n",
    "    # Rel err\n",
    "    sm = np.abs(fine).astype(np.float64)[1:,1:].reshape(2*m, l, 2*m, l).max(axis=(1,3))\n",
    "    max_fine = np.broadcast_to(sm.reshape(2*m, 1, 2*m, 1), (2*m, l, 2*m, l)).reshape(2*m*l, 2*m*l)\n",
    "    return abs_err, abs_err / max_fine"
   ]
  },
  {
   "cell_type": "markdown",
   "metadata": {},
   "source": [
    "### Visualization code"
   ]
  },
  {
   "cell_type": "code",
   "execution_count": 10,
   "metadata": {},
   "outputs": [],
   "source": [
    "def plot_err(sum_rerr, mom_rerr, moment, tr_len, title=None, cmap=None, vmin=1e-16, vmax=0e-1, fnum=None):\n",
    "    fnum = fnum if fnum is not None else 0.0\n",
    "    cmap = cmap if cmap is not None else 'Reds'\n",
    "\n",
    "    mom_rerr_vis = np.full((moment, tr_len, moment, tr_len), fnum, dtype=np.float64)\n",
    "    for mm, re in zip(_combu(range(moment), 2), mom_rerr):\n",
    "        rv = mom_rerr_vis[mm[0], :, mm[1]]\n",
    "        rv[np.triu_indices_from(rv)] = re\n",
    "\n",
    "    sum_rerr_vis = sum_rerr.reshape(2*moment*tr_len, 2*moment*tr_len)\n",
    "    mom_rerr_vis = mom_rerr_vis.reshape(moment*tr_len, moment*tr_len)\n",
    "    # vmin, vmax = np.min(rel_err[rel_err > 1e-13]), np.max(rel_err) \n",
    "\n",
    "    fig, axs = plt.subplots(1,2, figsize=(10, 5), tight_layout=True)\n",
    "\n",
    "    axs[0].set_title('Gram acc')\n",
    "    im1 = axs[0].imshow(sum_rerr_vis, cmap, vmin=vmin, vmax=vmax)\n",
    "    axs[1].set_title('Co-moments')\n",
    "    im2 = axs[1].imshow(mom_rerr_vis, cmap, vmin=vmin, vmax=vmax)\n",
    "\n",
    "    if title: axs[0].text(1, 4*moment, title)\n",
    "\n",
    "    for i, ax in enumerate(axs):\n",
    "        # Major ticks\n",
    "        ax.set_xticks(np.arange(-0.5, (2-i)*moment*tr_len, tr_len))\n",
    "        ax.set_yticks(np.arange(-0.5, (2-i)*moment*tr_len, tr_len))\n",
    "        ax.set_xticklabels([])\n",
    "        ax.set_yticklabels([])\n",
    "\n",
    "        # Minor ticks\n",
    "        ax.set_xticks(np.tile(np.arange(0, tr_len), reps=moment), minor=True)\n",
    "        ax.set_yticks(np.tile(np.arange(0, tr_len), reps=moment), minor=True)\n",
    "        ax.set_xticklabels(np.tile(np.arange(0, tr_len), reps=moment), minor=True)\n",
    "        ax.set_yticklabels(np.tile(np.arange(0, tr_len), reps=moment), minor=True)\n",
    "\n",
    "        ax.grid(linewidth=1, color='red')\n",
    "\n",
    "    fig.colorbar(im1)\n",
    "\n",
    "def stage_err(a, m, stages_func):\n",
    "    \"\"\"Find relative numeric errors for all stages\"\"\"\n",
    "    sfine = stages_fine(a, m)\n",
    "    sfloat = stages_func(a, m)\n",
    "\n",
    "    # Return relative error only, i.e. [1]\n",
    "    sef = [error_estimation, error_estimation_acc, error_estimation]\n",
    "    return [se(csf, csr, m)[1] for se, csf, csr in zip(sef, sfine, sfloat)]\n",
    "\n",
    "def plot_err_setup(tr_cnt, tr_len, moment, rerr):\n",
    "    pargs = { 'cmap' :'coolwarm', 'vmin': -16, 'vmax' : 0, 'fnum' : -100 }\n",
    "    rerr1_log, rerr2_log = np.log10(rerr[1] + 1.0e-32), np.log10(rerr[2] + 1.0e-32)\n",
    "    plot_err(rerr1_log, rerr2_log, moment, tr_len, title='', **pargs)\n",
    "    print(tr_cnt, np.min(rerr2_log), np.max(rerr2_log))\n",
    "\n",
    "def error_interact_gauss(tr_cnt, param1, param2):\n",
    "    # Gauss distribution\n",
    "    tr_len, moment = 3, 4\n",
    "    loc, scale = param1, param2\n",
    "    a = np.random.normal(loc, scale, (tr_cnt, tr_len)).astype(dtype=np.int64)\n",
    "    rerr = stage_err(a, moment, stages_float_sums)\n",
    "    plot_err_setup(tr_cnt, tr_len, moment, rerr)\n",
    "\n",
    "def error_interact_gauss_detrend(tr_cnt, param1, param2):\n",
    "    # Gauss distribution detrended\n",
    "    tr_len, moment = 3, 4\n",
    "    loc, scale = param1, param2\n",
    "    a = np.random.normal(loc, scale, (tr_cnt, tr_len)).astype(dtype=np.int64)\n",
    "    rerr = stage_err(a, moment, stages_float_detrend)\n",
    "    plot_err_setup(tr_cnt, tr_len, moment, rerr)\n",
    "\n",
    "def error_interact_uniform(tr_cnt, param1, param2):\n",
    "    # Uniform distribution\n",
    "    tr_len, moment = 3, 4\n",
    "    lo, hi = param1, param2\n",
    "    a = np.random.randint(lo, hi, (tr_cnt, tr_len), dtype=np.int64)\n",
    "    rerr = stage_err(a, moment, stages_float_sums)\n",
    "    plot_err_setup(tr_cnt, tr_len, moment, rerr)"
   ]
  },
  {
   "cell_type": "markdown",
   "metadata": {},
   "source": [
    "## Interactive visualization of computational error"
   ]
  },
  {
   "cell_type": "code",
   "execution_count": 11,
   "metadata": {},
   "outputs": [
    {
     "name": "stdout",
     "output_type": "stream",
     "text": [
      "Gaussian distribution of 3 random variables\n"
     ]
    },
    {
     "data": {
      "application/vnd.jupyter.widget-view+json": {
       "model_id": "5322f8e5c73e4808b04ca8a401b00426",
       "version_major": 2,
       "version_minor": 0
      },
      "text/plain": [
       "interactive(children=(IntSlider(value=10000, continuous_update=False, description='Count', layout=Layout(width…"
      ]
     },
     "metadata": {},
     "output_type": "display_data"
    }
   ],
   "source": [
    "print(\"Gaussian distribution of 3 random variables\")\n",
    "dparams = [{'value': 10_000, 'min':0,   'max':600_000, 'step':1000, 'description':'Count'},\n",
    "           {'value': 20_000, 'min':0,   'max':30_000,  'step':100,  'description':'mean'},\n",
    "           {'value': 500,   'min':0,   'max':10_000,   'step':50,   'description':'std'} ]\n",
    "cnt_wdgt, p1_wdgt, p2_wdgt = [\n",
    "widgets.IntSlider(**dparams[0], continuous_update=False, layout=widgets.Layout(width='70%')),\n",
    "widgets.IntSlider(**dparams[1], continuous_update=False, layout=widgets.Layout(width='70%')),\n",
    "widgets.IntSlider(**dparams[2], continuous_update=False, layout=widgets.Layout(width='70%'))]\n",
    "\n",
    "widgets.interactive(error_interact_gauss, tr_cnt=cnt_wdgt, param1=p1_wdgt, param2=p2_wdgt, stage=2)"
   ]
  },
  {
   "cell_type": "code",
   "execution_count": 12,
   "metadata": {},
   "outputs": [
    {
     "name": "stdout",
     "output_type": "stream",
     "text": [
      "Gaussian distribution of 3 random variables with detrending\n"
     ]
    },
    {
     "data": {
      "application/vnd.jupyter.widget-view+json": {
       "model_id": "cfb46d1d64a444feb0b12c82039dd1b1",
       "version_major": 2,
       "version_minor": 0
      },
      "text/plain": [
       "interactive(children=(IntSlider(value=10000, continuous_update=False, description='Count', layout=Layout(width…"
      ]
     },
     "metadata": {},
     "output_type": "display_data"
    }
   ],
   "source": [
    "print(\"Gaussian distribution of 3 random variables with detrending\")\n",
    "dparams = [{'value': 10_000, 'min':0, 'max':700_000, 'step':1000, 'description':'Count'},\n",
    "           {'value': 20_000, 'min':0, 'max':30_000,  'step':100,  'description':'mean'},\n",
    "           {'value': 500,   'min':0, 'max':2_000,   'step':10,   'description':'std'} ]\n",
    "cnt_wdgt, p1_wdgt, p2_wdgt = [\n",
    "    widgets.IntSlider(**dparams[0], continuous_update=False, layout=widgets.Layout(width='70%')),\n",
    "    widgets.IntSlider(**dparams[1], continuous_update=False, layout=widgets.Layout(width='70%')),\n",
    "    widgets.IntSlider(**dparams[2], continuous_update=False, layout=widgets.Layout(width='70%'))]\n",
    "\n",
    "widgets.interactive(error_interact_gauss_detrend, tr_cnt=cnt_wdgt, param1=p1_wdgt, param2=p2_wdgt, stage=2)"
   ]
  },
  {
   "cell_type": "markdown",
   "metadata": {},
   "source": [
    "# Other distributions"
   ]
  },
  {
   "cell_type": "code",
   "execution_count": 13,
   "metadata": {},
   "outputs": [
    {
     "name": "stdout",
     "output_type": "stream",
     "text": [
      "Uniform distribution of 3 random variables\n"
     ]
    },
    {
     "data": {
      "application/vnd.jupyter.widget-view+json": {
       "model_id": "7fe8984917de42a7ae3443eb2a9cc5d5",
       "version_major": 2,
       "version_minor": 0
      },
      "text/plain": [
       "interactive(children=(IntSlider(value=10000, continuous_update=False, description='Count', layout=Layout(width…"
      ]
     },
     "metadata": {},
     "output_type": "display_data"
    }
   ],
   "source": [
    "print(\"Uniform distribution of 3 random variables\")\n",
    "\n",
    "dparams = [{'value': 10_000, 'min':100,     'max':100_000, 'step':1000, 'description':'Count'},\n",
    "           {'value': 19_500, 'min':-30_000, 'max':40_000,  'step':20,   'description':'LBound'},\n",
    "           {'value': 21_500, 'min':-30_000, 'max':40_000,  'step':20,   'description':'UBound'}]\n",
    "cnt_wdgt, p1_wdgt, p2_wdgt = [\n",
    "widgets.IntSlider(**dparams[0], continuous_update=False, layout=widgets.Layout(width='750px')),\n",
    "widgets.IntSlider(**dparams[1], continuous_update=False, layout=widgets.Layout(width='750px')),\n",
    "widgets.IntSlider(**dparams[2], continuous_update=False, layout=widgets.Layout(width='750px'))]\n",
    "\n",
    "widgets.interactive(error_interact_uniform, tr_cnt=cnt_wdgt, param1=p1_wdgt, param2=p2_wdgt)"
   ]
  },
  {
   "cell_type": "markdown",
   "metadata": {},
   "source": [
    "# Single run source data generation"
   ]
  },
  {
   "cell_type": "code",
   "execution_count": 14,
   "metadata": {},
   "outputs": [],
   "source": [
    "moment = 4  # All powers for E((x-a)^m*(y-b)^m)\n",
    "tr_cnt, tr_len = 5_000, 3\n",
    "\n",
    "# # Uniform distribution\n",
    "# lo, hi = 19_700, 20_300\n",
    "# a = np.random.randint(lo, hi, (tr_cnt, tr_len), dtype=np.int64)\n",
    "\n",
    "# Normal distribution\n",
    "loc, scale = 20000, 300  # SD less than 2% of mean leads to unusable results\n",
    "a = np.random.normal(loc, scale, (tr_cnt, tr_len)).astype(dtype=np.int64)"
   ]
  },
  {
   "cell_type": "code",
   "execution_count": 15,
   "metadata": {
    "tags": []
   },
   "outputs": [],
   "source": [
    "# %%time\n",
    "layout_fine, sums_fine, com_fine = stages_fine(a, moment)"
   ]
  },
  {
   "cell_type": "code",
   "execution_count": 16,
   "metadata": {
    "tags": []
   },
   "outputs": [
    {
     "name": "stdout",
     "output_type": "stream",
     "text": [
      "float64\n"
     ]
    }
   ],
   "source": [
    "# %%time\n",
    "layout_float, sums_float_sum, com_float_sum = stages_float_sums(a, moment)"
   ]
  },
  {
   "cell_type": "code",
   "execution_count": 17,
   "metadata": {},
   "outputs": [
    {
     "name": "stdout",
     "output_type": "stream",
     "text": [
      "float64\n"
     ]
    }
   ],
   "source": [
    "# %%time\n",
    "layout_float_off, sums_float_off, com_float_off = stages_float_detrend(a, moment)"
   ]
  },
  {
   "cell_type": "code",
   "execution_count": 18,
   "metadata": {
    "scrolled": true
   },
   "outputs": [
    {
     "name": "stdout",
     "output_type": "stream",
     "text": [
      "Straightforward method relative errors\n",
      "Gram matrix (25, 25): (+0.000e+00 - +8.179e-16)\n",
      "Co-moments: (10, 6): (+1.368e-14 - +2.218e-01)\n"
     ]
    }
   ],
   "source": [
    "print(\"Straightforward method relative errors\")\n",
    "# Estimate the numerical error for Gram matrix\n",
    "_, rerr_acc_sum = error_estimation_acc(sums_fine, sums_float_sum, moment)\n",
    "print(\"Gram matrix {}: ({:+5.3e} - {:+5.3e})\".format(sums_float_sum.shape, np.min(rerr_acc_sum), np.max(rerr_acc_sum)))\n",
    "# Estimate the error for central co-moment conversion\n",
    "_, rerr_com_sum = error_estimation(com_fine, com_float_sum)\n",
    "print(\"Co-moments: {}: ({:+5.3e} - {:+5.3e})\".format(rerr_com_sum.shape, np.min(rerr_com_sum), np.max(rerr_com_sum)))"
   ]
  },
  {
   "cell_type": "code",
   "execution_count": 19,
   "metadata": {},
   "outputs": [
    {
     "name": "stdout",
     "output_type": "stream",
     "text": [
      "Detrend method relative errors\n",
      "Gram matrix accumulator is not relevant\n",
      "Gram matrix (24, 24): (+9.817e-01 - +1.000e+00)\n",
      "Co-moments: (10, 6): (+0.000e+00 - +5.615e-16)\n"
     ]
    }
   ],
   "source": [
    "print(\"Detrend method relative errors\")\n",
    "print(\"Gram matrix accumulator is not relevant\")\n",
    "# Estimate the numerical error for Gram matrix\n",
    "_, rerr_acc_off = error_estimation_acc(sums_fine, sums_float_off, moment)\n",
    "print(\"Gram matrix {}: ({:+5.3e} - {:+5.3e})\".format(rerr_acc_off.shape, np.min(rerr_acc_off), np.max(rerr_acc_off)))\n",
    "# Estimate the error for central co-moment conversion\n",
    "_, rerr_com_off = error_estimation(com_fine, com_float_off)\n",
    "print(\"Co-moments: {}: ({:+5.3e} - {:+5.3e})\".format(rerr_com_sum.shape, np.min(rerr_com_off), np.max(rerr_com_off)))"
   ]
  },
  {
   "cell_type": "code",
   "execution_count": 20,
   "metadata": {},
   "outputs": [
    {
     "data": {
      "text/plain": [
       "(0.0, 3.0505996594855355e-16)"
      ]
     },
     "execution_count": 20,
     "metadata": {},
     "output_type": "execute_result"
    }
   ],
   "source": [
    "# Estimate the numerical error for the layout calculation\n",
    "rerr_layout = error_estimation(layout_fine, layout_float)[1]\n",
    "np.min(rerr_layout), np.max(rerr_layout)"
   ]
  },
  {
   "cell_type": "code",
   "execution_count": 21,
   "metadata": {},
   "outputs": [
    {
     "name": "stdout",
     "output_type": "stream",
     "text": [
      "Comoments, which are not precise for the following co-moms: \n",
      "Co-moment degree combination (0, 3): (+4.327e-07 - +1.721e-05)\n",
      "Co-moment degree combination (1, 2): (+7.266e-07 - +2.092e-05)\n",
      "Co-moment degree combination (1, 3): (+5.491e-06 - +6.110e-05)\n",
      "Co-moment degree combination (2, 2): (+1.157e-05 - +6.344e-05)\n",
      "Co-moment degree combination (2, 3): (+1.011e-02 - +1.134e-01)\n",
      "Co-moment degree combination (3, 3): (+1.477e-02 - +1.956e-01)\n"
     ]
    }
   ],
   "source": [
    "print(\"Comoments, which are not precise for the following co-moms: \")\n",
    "for m, cmdata in enumerate(zip(_combu(range(moment), 2), com_float_sum, com_fine)):\n",
    "    degrees, cm = cmdata[0], cmdata[1:]\n",
    "    if not np.allclose(*cm):\n",
    "        diff = np.abs(np.subtract(*cm))\n",
    "        rel = diff / np.max(cm[0])\n",
    "        print(\"Co-moment degree combination {}: ({:+5.3e} - {:+5.3e})\".format(degrees, np.min(rel), np.max(rel)))\n",
    "    pass"
   ]
  },
  {
   "cell_type": "code",
   "execution_count": 22,
   "metadata": {},
   "outputs": [
    {
     "name": "stdout",
     "output_type": "stream",
     "text": [
      "Show one co-moment\n",
      "[+6.498e+21 +5.422e+20 +4.436e+20 +7.916e+21 +8.017e+20 +7.587e+21]\n",
      "[+8.254e+21 -1.532e+19 +5.762e+20 +8.977e+21 +1.327e+21 +7.871e+21]\n"
     ]
    }
   ],
   "source": [
    "print(\"Show one co-moment\")\n",
    "m = 9   # 0 => (1, 1) 4 => (2, 2), 7 => (3, 3), 9 => (4, 4)\n",
    "list(map(print, [com_fine[m], com_float_sum[m]]));"
   ]
  },
  {
   "cell_type": "markdown",
   "metadata": {},
   "source": [
    "### Computational error visualization for a given distribution parameters"
   ]
  },
  {
   "cell_type": "code",
   "execution_count": 23,
   "metadata": {},
   "outputs": [
    {
     "name": "stdout",
     "output_type": "stream",
     "text": [
      "-13.86400585311332 -0.6540994082549658\n"
     ]
    },
    {
     "data": {
      "image/png": "[encoded data removed]",
      "text/plain": [
       "<Figure size 720x360 with 3 Axes>"
      ]
     },
     "metadata": {},
     "output_type": "display_data"
    }
   ],
   "source": [
    "# Straight-forward method\n",
    "rerr_acc_sum_log, rerr_com_sum_log = np.log10(rerr_acc_sum + 1.0e-32), np.log10(rerr_com_sum + 1.0e-32)\n",
    "print(np.min(rerr_com_sum_log), np.max(rerr_com_sum_log))\n",
    "plot_err(rerr_acc_sum_log, rerr_com_sum_log, moment, tr_len, title='', \n",
    "         cmap='coolwarm', vmin=-16, vmax=0, fnum=-100)"
   ]
  },
  {
   "cell_type": "code",
   "execution_count": 24,
   "metadata": {},
   "outputs": [
    {
     "name": "stdout",
     "output_type": "stream",
     "text": [
      "-32.0 -15.250635064023108\n"
     ]
    },
    {
     "data": {
      "image/png": "[encoded data removed]",
      "text/plain": [
       "<Figure size 720x360 with 3 Axes>"
      ]
     },
     "metadata": {},
     "output_type": "display_data"
    }
   ],
   "source": [
    "# Detrend method (Gram matrix accumulator is not relevant)\n",
    "rerr_acc_off_log, rerr_com_off_log = np.log10(rerr_acc_off + 1.0e-32), np.log10(rerr_com_off + 1.0e-32)\n",
    "print(np.min(rerr_com_off_log), np.max(rerr_com_off_log))\n",
    "plot_err(rerr_acc_off_log, rerr_com_off_log, moment, tr_len, title='',\n",
    "         cmap='coolwarm', vmin=-16, vmax=0, fnum=-100)"
   ]
  },
  {
   "cell_type": "code",
   "execution_count": null,
   "metadata": {},
   "outputs": [],
   "source": []
  }
 ],
 "metadata": {
  "kernelspec": {
   "display_name": "Python 3",
   "language": "python",
   "name": "python3"
  },
  "language_info": {
   "codemirror_mode": {
    "name": "ipython",
    "version": 3
   },
   "file_extension": ".py",
   "mimetype": "text/x-python",
   "name": "python",
   "nbconvert_exporter": "python",
   "pygments_lexer": "ipython3",
   "version": "3.8.8"
  },
  "widgets": {
   "application/vnd.jupyter.widget-state+json": {
    "state": {
     "07d7ba6a449c44aa814643f02030d028": {
      "model_module": "@jupyter-widgets/base",
      "model_module_version": "1.2.0",
      "model_name": "LayoutModel",
      "state": {
       "width": "70%"
      }
     },
     "0c202181e7044813bca3ba1ec89c0512": {
      "model_module": "@jupyter-widgets/controls",
      "model_module_version": "1.5.0",
      "model_name": "SliderStyleModel",
      "state": {
       "description_width": ""
      }
     },
     "1a93bf4d9b9d418592aef2cd10b81247": {
      "model_module": "@jupyter-widgets/controls",
      "model_module_version": "1.5.0",
      "model_name": "VBoxModel",
      "state": {
       "_dom_classes": [
        "widget-interact"
       ],
       "children": [
        "IPY_MODEL_d1dd7b2091224c87b20639b8270bd803",
        "IPY_MODEL_c69f2ad22351464c9546ba9a1ac86abe",
        "IPY_MODEL_48fc1cc0ad884eb5853e6885b974b88a",
        "IPY_MODEL_f4e06f5cd0164c4faae16325789713b3"
       ],
       "layout": "IPY_MODEL_e27f8e1584d04ed6a612e45371eb5802"
      }
     },
     "1cb932a7832d4ed194993585bb581adb": {
      "model_module": "@jupyter-widgets/base",
      "model_module_version": "1.2.0",
      "model_name": "LayoutModel",
      "state": {
       "width": "750px"
      }
     },
     "29144b7829554b838b269d23e22bbd4d": {
      "model_module": "@jupyter-widgets/controls",
      "model_module_version": "1.5.0",
      "model_name": "IntSliderModel",
      "state": {
       "continuous_update": false,
       "description": "std",
       "layout": "IPY_MODEL_4b482cd41fc148239fc7f3a71aa80912",
       "max": 10000,
       "step": 50,
       "style": "IPY_MODEL_e63eba6415a6487ea41d60fbd116c045",
       "value": 500
      }
     },
     "2d7cea1f00ad4e4f820802481bd8946e": {
      "model_module": "@jupyter-widgets/base",
      "model_module_version": "1.2.0",
      "model_name": "LayoutModel",
      "state": {
       "width": "70%"
      }
     },
     "361c30d0542b4dada45cd068ac2131a7": {
      "model_module": "@jupyter-widgets/base",
      "model_module_version": "1.2.0",
      "model_name": "LayoutModel",
      "state": {}
     },
     "37abc5861de0410993bca16767806179": {
      "model_module": "@jupyter-widgets/base",
      "model_module_version": "1.2.0",
      "model_name": "LayoutModel",
      "state": {}
     },
     "38389c2be075474da7b7e90c71bd2a48": {
      "model_module": "@jupyter-widgets/controls",
      "model_module_version": "1.5.0",
      "model_name": "SliderStyleModel",
      "state": {
       "description_width": ""
      }
     },
     "39e74cb13be34b30acddb03928be12ee": {
      "model_module": "@jupyter-widgets/controls",
      "model_module_version": "1.5.0",
      "model_name": "SliderStyleModel",
      "state": {
       "description_width": ""
      }
     },
     "3cab2b135aa1447790d3a78312bb9434": {
      "model_module": "@jupyter-widgets/controls",
      "model_module_version": "1.5.0",
      "model_name": "SliderStyleModel",
      "state": {
       "description_width": ""
      }
     },
     "3e189701fd4340bda429630df5d36842": {
      "model_module": "@jupyter-widgets/controls",
      "model_module_version": "1.5.0",
      "model_name": "VBoxModel",
      "state": {
       "_dom_classes": [
        "widget-interact"
       ],
       "children": [
        "IPY_MODEL_82834e717b494f55a8a0dd231803c172",
        "IPY_MODEL_b17f03a0ba794c0591b7776d20757686",
        "IPY_MODEL_c63dbcc912804b5b9e2bdf55aea9f7e5",
        "IPY_MODEL_fb2d5d717e5d4494a404ffd6a8a0601e"
       ],
       "layout": "IPY_MODEL_725513914710414d8d90c60dd5f7dcd7"
      }
     },
     "406dd804e6744098884da174d97fa29c": {
      "model_module": "@jupyter-widgets/base",
      "model_module_version": "1.2.0",
      "model_name": "LayoutModel",
      "state": {
       "width": "750px"
      }
     },
     "48fc1cc0ad884eb5853e6885b974b88a": {
      "model_module": "@jupyter-widgets/controls",
      "model_module_version": "1.5.0",
      "model_name": "IntSliderModel",
      "state": {
       "continuous_update": false,
       "description": "std",
       "layout": "IPY_MODEL_2d7cea1f00ad4e4f820802481bd8946e",
       "max": 2000,
       "step": 10,
       "style": "IPY_MODEL_38389c2be075474da7b7e90c71bd2a48",
       "value": 500
      }
     },
     "4b482cd41fc148239fc7f3a71aa80912": {
      "model_module": "@jupyter-widgets/base",
      "model_module_version": "1.2.0",
      "model_name": "LayoutModel",
      "state": {
       "width": "70%"
      }
     },
     "4d9f6e4e77af4884a4606cf6ee8db4a5": {
      "model_module": "@jupyter-widgets/controls",
      "model_module_version": "1.5.0",
      "model_name": "IntSliderModel",
      "state": {
       "continuous_update": false,
       "description": "mean",
       "layout": "IPY_MODEL_07d7ba6a449c44aa814643f02030d028",
       "max": 30000,
       "step": 100,
       "style": "IPY_MODEL_52adecfce46b453e8b2b45d1000c957b",
       "value": 20000
      }
     },
     "4fcd1bc4c13640009ddbb6a8778332a0": {
      "model_module": "@jupyter-widgets/base",
      "model_module_version": "1.2.0",
      "model_name": "LayoutModel",
      "state": {
       "width": "70%"
      }
     },
     "52adecfce46b453e8b2b45d1000c957b": {
      "model_module": "@jupyter-widgets/controls",
      "model_module_version": "1.5.0",
      "model_name": "SliderStyleModel",
      "state": {
       "description_width": ""
      }
     },
     "67c438f07c394b64bde191ef6784fa5d": {
      "model_module": "@jupyter-widgets/controls",
      "model_module_version": "1.5.0",
      "model_name": "SliderStyleModel",
      "state": {
       "description_width": ""
      }
     },
     "725513914710414d8d90c60dd5f7dcd7": {
      "model_module": "@jupyter-widgets/base",
      "model_module_version": "1.2.0",
      "model_name": "LayoutModel",
      "state": {}
     },
     "82834e717b494f55a8a0dd231803c172": {
      "model_module": "@jupyter-widgets/controls",
      "model_module_version": "1.5.0",
      "model_name": "IntSliderModel",
      "state": {
       "continuous_update": false,
       "description": "Count",
       "layout": "IPY_MODEL_406dd804e6744098884da174d97fa29c",
       "max": 100000,
       "min": 100,
       "step": 1000,
       "style": "IPY_MODEL_a323133cb7e24330a54a20151e41e595",
       "value": 10000
      }
     },
     "907797055a2a4ed7a97eaeb1d1593fca": {
      "model_module": "@jupyter-widgets/base",
      "model_module_version": "1.2.0",
      "model_name": "LayoutModel",
      "state": {}
     },
     "99fae16727ee4fb7ab1ef163a7715199": {
      "model_module": "@jupyter-widgets/controls",
      "model_module_version": "1.5.0",
      "model_name": "IntSliderModel",
      "state": {
       "continuous_update": false,
       "description": "Count",
       "layout": "IPY_MODEL_bef7d159975f463ab625db770f571b20",
       "max": 600000,
       "step": 1000,
       "style": "IPY_MODEL_67c438f07c394b64bde191ef6784fa5d",
       "value": 10000
      }
     },
     "a323133cb7e24330a54a20151e41e595": {
      "model_module": "@jupyter-widgets/controls",
      "model_module_version": "1.5.0",
      "model_name": "SliderStyleModel",
      "state": {
       "description_width": ""
      }
     },
     "ab3e8c49ec5643e397c262daec74364d": {
      "model_module": "@jupyter-widgets/base",
      "model_module_version": "1.2.0",
      "model_name": "LayoutModel",
      "state": {
       "width": "750px"
      }
     },
     "b17f03a0ba794c0591b7776d20757686": {
      "model_module": "@jupyter-widgets/controls",
      "model_module_version": "1.5.0",
      "model_name": "IntSliderModel",
      "state": {
       "continuous_update": false,
       "description": "LBound",
       "layout": "IPY_MODEL_ab3e8c49ec5643e397c262daec74364d",
       "max": 40000,
       "min": -30000,
       "step": 20,
       "style": "IPY_MODEL_0c202181e7044813bca3ba1ec89c0512",
       "value": 19500
      }
     },
     "b75149ac62054de4ba977cf711ad242a": {
      "model_module": "@jupyter-widgets/controls",
      "model_module_version": "1.5.0",
      "model_name": "SliderStyleModel",
      "state": {
       "description_width": ""
      }
     },
     "bef7d159975f463ab625db770f571b20": {
      "model_module": "@jupyter-widgets/base",
      "model_module_version": "1.2.0",
      "model_name": "LayoutModel",
      "state": {
       "width": "70%"
      }
     },
     "c63dbcc912804b5b9e2bdf55aea9f7e5": {
      "model_module": "@jupyter-widgets/controls",
      "model_module_version": "1.5.0",
      "model_name": "IntSliderModel",
      "state": {
       "continuous_update": false,
       "description": "UBound",
       "layout": "IPY_MODEL_1cb932a7832d4ed194993585bb581adb",
       "max": 40000,
       "min": -30000,
       "step": 20,
       "style": "IPY_MODEL_3cab2b135aa1447790d3a78312bb9434",
       "value": 21500
      }
     },
     "c69f2ad22351464c9546ba9a1ac86abe": {
      "model_module": "@jupyter-widgets/controls",
      "model_module_version": "1.5.0",
      "model_name": "IntSliderModel",
      "state": {
       "continuous_update": false,
       "description": "mean",
       "layout": "IPY_MODEL_d995717d027b47f5abf429451837a13f",
       "max": 30000,
       "step": 100,
       "style": "IPY_MODEL_39e74cb13be34b30acddb03928be12ee",
       "value": 20000
      }
     },
     "cb850d37136341a48aa2b44a04386c4f": {
      "model_module": "@jupyter-widgets/controls",
      "model_module_version": "1.5.0",
      "model_name": "VBoxModel",
      "state": {
       "_dom_classes": [
        "widget-interact"
       ],
       "children": [
        "IPY_MODEL_99fae16727ee4fb7ab1ef163a7715199",
        "IPY_MODEL_4d9f6e4e77af4884a4606cf6ee8db4a5",
        "IPY_MODEL_29144b7829554b838b269d23e22bbd4d",
        "IPY_MODEL_e4ba20cdd878454b8353cc7571fb30ef"
       ],
       "layout": "IPY_MODEL_907797055a2a4ed7a97eaeb1d1593fca"
      }
     },
     "d1dd7b2091224c87b20639b8270bd803": {
      "model_module": "@jupyter-widgets/controls",
      "model_module_version": "1.5.0",
      "model_name": "IntSliderModel",
      "state": {
       "continuous_update": false,
       "description": "Count",
       "layout": "IPY_MODEL_4fcd1bc4c13640009ddbb6a8778332a0",
       "max": 700000,
       "step": 1000,
       "style": "IPY_MODEL_b75149ac62054de4ba977cf711ad242a",
       "value": 10000
      }
     },
     "d8d9eaa188804b808f80ccf86b31a223": {
      "model_module": "@jupyter-widgets/base",
      "model_module_version": "1.2.0",
      "model_name": "LayoutModel",
      "state": {}
     },
     "d995717d027b47f5abf429451837a13f": {
      "model_module": "@jupyter-widgets/base",
      "model_module_version": "1.2.0",
      "model_name": "LayoutModel",
      "state": {
       "width": "70%"
      }
     },
     "e27f8e1584d04ed6a612e45371eb5802": {
      "model_module": "@jupyter-widgets/base",
      "model_module_version": "1.2.0",
      "model_name": "LayoutModel",
      "state": {}
     },
     "e4ba20cdd878454b8353cc7571fb30ef": {
      "model_module": "@jupyter-widgets/output",
      "model_module_version": "1.0.0",
      "model_name": "OutputModel",
      "state": {
       "layout": "IPY_MODEL_361c30d0542b4dada45cd068ac2131a7",
       "outputs": [
        {
         "name": "stdout",
         "output_type": "stream",
         "text": "10000 -13.6056956565499 -2.7467640827301767\n"
        },
        {
         "data": {
          "image/png": "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\n",
          "text/plain": "<Figure size 720x360 with 3 Axes>"
         },
         "metadata": {},
         "output_type": "display_data"
        }
       ]
      }
     },
     "e63eba6415a6487ea41d60fbd116c045": {
      "model_module": "@jupyter-widgets/controls",
      "model_module_version": "1.5.0",
      "model_name": "SliderStyleModel",
      "state": {
       "description_width": ""
      }
     },
     "f4e06f5cd0164c4faae16325789713b3": {
      "model_module": "@jupyter-widgets/output",
      "model_module_version": "1.0.0",
      "model_name": "OutputModel",
      "state": {
       "layout": "IPY_MODEL_37abc5861de0410993bca16767806179",
       "outputs": [
        {
         "name": "stdout",
         "output_type": "stream",
         "text": "10000 -32.0 -15.034798898343396\n"
        },
        {
         "data": {
          "image/png": "iVBORw0KGgoAAAANSUhEUgAAAr0AAAFyCAYAAAD4cmIkAAAAOXRFWHRTb2Z0d2FyZQBNYXRwbG90bGliIHZlcnNpb24zLjMuNCwgaHR0cHM6Ly9tYXRwbG90bGliLm9yZy8QVMy6AAAACXBIWXMAAAsTAAALEwEAmpwYAAAxDklEQVR4nO3de3RU9bn/8c93JiSBXIghISSCqCCI4SYkIlUOtEY5CkLTWsSinq5WB7CpgueU04pVfkKweqi05SK/ae35qaeIl+MFaesFFEsVDcEqVZFLVeQWSIJAAgSYmf37IzgSmcllLsxm5/1aa6/Fnpn9zDPbtfDx8dnfr7EsyxIAAADgYK5EJwAAAADEG0UvAAAAHI+iFwAAAI5H0QsAAADHo+gFAACA41H0AgAAwPEoegEAAOB4FL04bZYtW6Zhw4YpLS1NXbt21bBhw7R48WKxVDQAAIg3il6cFr/61a90xx136Kc//amqqqq0Z88eLVmyRG+++aaOHTsW8hq/33+aswQAAE5F0Yu4O3DggO655x4tXrxY1113nTIyMmSM0cUXX6w//vGPSklJkST94Ac/0NSpU3XNNdcoLS1Nr7/+uv70pz/p4osvVmZmpnr06KFZs2YF43722Wcyxui///u/1aNHD5111llasmSJ1q1bp4EDByorK0tlZWVh86qoqNDw4cOVlZWl/Px8lZWVNSnAP/zwQ1155ZXKzs5WXl6e5s6dK6mxGJ87d6569eqljIwMDR06VNu3b4/PzQMAADFB0Yu4W7t2rY4eParx48e3+NmlS5dq5syZqqur0+WXX660tDQ99thj2r9/v/70pz/p4Ycf1vPPP9/kmnfeeUdbtmzRk08+qWnTpqm8vFwrV67Uhx9+qKeeekpvvPFGyO9yu92aP3++ampqtHbtWq1atUqLFy+WJNXV1amkpET/+q//ql27dmnr1q264oorJEkPPfSQnnjiCf35z3/WwYMH9Yc//EGdOnWK7iYBAIC4ouhF3NXU1CgnJ0dJSUnB177xjW8oKytLHTt21F//+tfg6+PHj9dll10ml8ul1NRUjRo1SgMGDJDL5dLAgQN1ww03nFLE/uIXv1BqaqquuuoqpaWl6YYbblDXrl119tlna8SIEfr73/8eMq+hQ4fq0ksvVVJSks4991xNnjw5GHvFihXq1q2b/v3f/12pqanKyMjQsGHDJEm///3vNWfOHPXt21fGGA0aNEhdunSJ9W0DAAAxRNGLuOvSpYtqamrk8/mCr7311lvav3+/unTpokAgEHy9R48eTa5955139M1vflO5ubnq3LmzlixZopqamiafycvLC/65Y8eOp5zX19eHzGvz5s0aO3asunXrpszMTN11113B2Nu3b1evXr1CXtfcewAAwJ4oehF3w4cPV0pKil544YUWP2uMaXL+/e9/X+PGjdP27dt14MABTZkyJWarPUydOlUXXnihtmzZooMHD2ru3LnB2D169NA///nPkNc19x4AALAnil7EXVZWlu69917ddttteuaZZ1RfX69AIKD33ntPhw4davbauro6ZWdnKzU1VRUVFVq6dGnM8qqrq1NmZqbS09P18ccf6+GHHw6+N3bsWFVVVenXv/61jh49qrq6Or3zzjuSpFtuuUW/+MUvtGXLFlmWpQ0bNqi2tjZmeQEAgNij6MVpMWPGDD300EN68MEH1bVrV+Xl5Wny5Ml64IEH9I1vfCPsdYsXL9Y999yjjIwM3XfffZowYULMcpo3b56WLl2qjIwM3Xrrrbr++uuD72VkZOjVV1/Viy++qG7duumCCy7Q66+/Lkm68847NWHCBF111VXKzMzUj370Ix05ciRmeQEAgNgzFjsDAAAAwOHo9AIAAMDxKHoBAACQMC+99JL69u2r3r1765e//GXcvofxBgAAACSE3+9Xnz599Oqrr6p79+4qLi7WE088oYsuuijm30WnFwAAAAlRUVGh3r176/zzz1dycrImTpzYqiVOI5HU8kea5/V65fV6JUkfr1+vC6NOCQCcYYtcOmD5E50GAERsqCtNB6P4eyz5ol7q2LFj8Nzj8cjj8QTPd+7c2WRjqu7duweXCI21qIvek5MvMkaz3H2iTiqexvo3a4WNc7R7fhI5xoLd85Psn6Pd85Ok6f5tiU4BAKJy0PLr10k9I77+3o4dVVlZGfb9UFO2X9+oKlaiLnoBAADgUEYyHeJThEqNnd3t27cHz3fs2KGCgoK4fBczvQAAAAjJGCNXUuRHS4qLi7VlyxZ9+umnOnbsmJYtW6Zx48bF5be0qugtKSmRMUbGGOXk5MQlEQAAALQvSUlJWrhwoUaPHq1+/fppwoQJKiwsjMt3tVj01tfXa9WqVZo/f752796t2tpazZw5My7JAAAAwEaMZDq4Ij5a45prrtHmzZv1z3/+M641ZovZTJkyRcYYTZs2Td26dVN2draWLFkSt4QAAABgE0ZxHW84nVosejdu3KikpK+ed8vLy9OhQ4eafGbEiBFKTk7WptjnBwAAgEQ58SBbpIedRLR6w9eXklizZo2kxiXLAAAA4AxfPsjmBC12evv16yefzxc837Nnjzp16hTXpAAAAIBYarHoXbhwoSzL0oIFC1RVVaV9+/Zp8uTJpyM3AAAAJJKDxhtaLHqzsrI0cuRI3X777crPz1d2drbmzp17OnIDAABAIjnoQbZWzfSuXr06zmkAAADAbowk47ZX8RoptiEGAABAaEZyOaToZRtiAAAAOB6dXgAAAIRhZFzO6PRS9AIAACA0Ixl3NIMBVsxSiRbjDQAARGjp0qUqKipSenq68vPzdfXVV+tvf/tbotM6bc4991ytXLky0WkgjowaZ3ojPeykxaI3OTlZxphTdmEDAKA9e+ihhzRt2jTddddd2rNnjz7//HPddttteuGFFxKdGoAQWix6x40bp6lTp56OXAAAOCMcOHBA99xzjxYtWqTvfOc7SktLU4cOHXTttdfqv/7rv3T06FFNmzZNBQUFKigo0LRp03T06NGw8X7wgx/otttu09VXX6309HRddtllqqqq0rRp03TWWWfpwgsv1N///vfg5zdu3KhRo0YpKytLhYWFWr58ecSxdu3ape9+97vKzc3Veeedp9/+9rfB92bNmqUJEybo5ptvVkZGhgoLC1VZWSlJuummm/T555/r2muvVXp6uh588EE1NDToxhtvVJcuXZSVlaXi4mLt2bMnlrcep5uRjMtEfNhJi0XvM888o8LCwtORCwAAZ4S1a9eqoaFBpaWlId8vLy/X22+/rffee0/vv/++KioqNGfOnGZjPvXUU5ozZ45qamqUkpKi4cOHa8iQIaqpqdF1112nO++8U5J0/PhxXXvttbrqqqu0d+9eLViwQJMmTdKmTZvaHCsQCOjaa6/VoEGDtHPnTq1atUq//vWv9fLLLwdjLV++XBMnTtT+/fs1btw4lZWVSZIef/xxnXPOOXrxxRdVX1+vGTNm6NFHH9WBAwe0fft21dbWasmSJerYsWNU9xqJFvlowxk33tAaI0aMUHJysja1/FEAAM54tbW1ysnJUVJS6OfB//jHP+qee+5R165dlZubq3vvvVePP/54szFLS0s1dOhQpaamqrS0VKmpqbr55pvldrt1/fXXB7uzb7/9turr6/Wzn/1MycnJ+ta3vqWxY8fqiSeeaHOsdevWqbq6Wvfcc4+Sk5N1/vnn69Zbb9WyZcuCsS6//HJdc801crvduummm/T++++H/Q0dOnRQbW2ttm7dKrfbraFDhyozM7PV9xX2Y0zj5hSRHnYSk6J3zZo1OnbsmPrGIhgAADbXpUsX1dTUyOfzhXx/165d6tmzZ/C8Z8+e2rVrlyRp7ty5Sk9PV3p6uqZMmRL8TF5eXvDPHTt2POW8vr4+GLtHjx5yub76V3jPnj21c+fONsfatm2bdu3apaysrOAxd+7cJiMJ3bp1C/65U6dOamhoCPu7b7rpJo0ePVoTJ05UQUGBZsyYoePHj4f8LM4cxuWK+LATe2UDAMAZYPjw4UpNTdXzzz8f8v2CggJt27YteP7555+roKBAknTXXXepvr5e9fX1WrJkSZu/u6CgQNu3b1cgEGgS/+yzz25zrB49eui8887T/v37g0ddXZ3+/Oc/t+r6rz/k3qFDB91777366KOP9NZbb2nFihV67LHH2pwXEA8UvQAAtFHnzp1133336cc//rGef/55HT58WMePH9df/vIXzZgxQzfccIPmzJmj6upq1dTU6L777tONN94Yk+8eNmyY0tLS9OCDD+r48eNavXq1XnzxRU2cOLHNsS655BJlZmbqgQce0JEjR+T3+/XBBx9o3bp1rbo+Ly9Pn3zySfD89ddf1z/+8Q/5/X5lZmaqQ4cOcrvdbc4LNtKeHmRLSkoKDq0bY9S7d++4JwUAgN3deeedeuihhzRnzhzl5uaqR48eWrhwob797W/r7rvvVlFRkQYOHKgBAwZoyJAhuvvuu2PyvcnJyVq+fLn+8pe/KCcnR7fddpsee+wxXXjhhW2O5Xa79eKLL+q9997Teeedp5ycHN1yyy06cOBAq67/+c9/rjlz5igrK0vz5s1TVVWVrrvuOmVmZqpfv34aOXJkzIp9JIpzHmQzlmXFbKuMImM0y90nVuHiYqx/s1bYOEe75yeRYyzYPT/J/jnaPT9Jmu7fpi1WQ6LTAICIFXbO0NLhF0d8/Y9qDgeXuUs0tiEGAABAWHZ7IC1SzvgVAAAAQDPo9AIAACC0Ew+yOQFFLwAAAMKw3wNpkWqx6H3kkUd066236svn3fLz84MLbAMATj+v1yuv1ytJ+nj9erX9mX0A7cH7HTJ1/FjrVuIIx7SnTm9aWpqmTJmixYsX691339XQoUM1c+ZMlZeXn478AABf4/F45PF4JDWumpMydnViE7KBN1eM0mXcB+7DCW+uGKWxt3wQl9j799TGJW4MF9MKSlnjiUkcpzzI1mLRO3HixOCC10OGDJHL5dL69evjnhgAAAAQK20q3RctWqRAIKDZs2c3eX3EiBFKTk7WppimBgAAgIRy0I5srX6QbcOGDSorK1NxcbGKi4ubvLdmzRpJjf+bDQAAAE5hv+I1Uq0qemtqajR48GDl5eWpoqIi3jkBAADAJpxS9LY43uDz+ZSfn6+UlBRVVVWdjpwAAACAmGqx6J00aZJ8Pp8aGhpkjJExRqNGjToNqQEAACCRGpcsc0V8ROOnP/2pLrzwQg0cOFClpaXav39/VPFazObJJ5+UZVlNjtWrV0f1pQCA5pWUlAQbDTk5OYlOB0A75nKbiI9oXHnllfrggw+0YcMG9enTR/fff390vyOqqwEAMVdfX69Vq1Zp/vz52r17t2prazVz5sxEpwWgPTKRr9wQ7SzwVVddpaSkxsfPLr30Uu3YsSOqeFFvQ3zyzkDVksb6N0cbMu7snqPd85PIMRbsnp9k/xztnt90pUR03ZQpU2SM0bRp0yRJ2dnZWrJkCZsCAUiIaMYUqqurVVRUFDw/eXOdtvjDH/6g66+/PuI8pBgUvV/fGWiFu0+0IeNqrH+zrXO0e34SOcaC3fOT7J+j3fOTJPm3RXTZxo0bg90NScrLy9Mnn3zS5DMjRozQO++8oxRJA6PJEQDiKDc3V5WVlWHfLykpCblQQnl5ucaPHx/8c1JSkiZNmhRVLlEXvQCA+DNfWwed9dEBnA7GxHfJspUrVzb7/qOPPqoVK1Zo1apVp/w92FbM9AKAzfTr108+ny94vmfPHnXq1CmBGQFozxI10/vSSy/pgQce0PLly2PydyBFLwDYzMKFC2VZlhYsWKCqqirt27dPkydPTnRaANolk7Aly8rKylRXV6crr7xSgwcP1pQpU6KKx3gDANhMVlaWRo4cqdtvv1233367srOzNXfu3ESnBaA9ivN4Q3O2bt0a03gUvQBgQ6yHDgCxRdELAACAMEzUYwp2QdELAACA8ByySgxFLwAAAEKK95Jlp5Mz+tUAAABAM+j0AgBwmiV14F+/8fZFVU1c4mYXdI1L3C92V8chamw6tMz0AgAAwNlM9JtM2AVFLwAAAMKi0wsAAADHc0qn1xmlOwAAANAMOr0AAAAIyUlLllH0AgAAIAwjMdMLAAAApzPsyAYAAABHM85ZvcEZvwIAHCY5OVnGGMd0WAAg0Sh6AcCGxo0bp6lTpyY6DQDtXuPmFJEedkLRCwA29Mwzz6iwsDDRaQBo74waH2SL9LARe2UDAGiVESNGKDk5WZsSnQgAx3NKp5cH2QDgDLRmzRpJUhEzvwDQKhS9AAAACMnIyBhnDAZQ9AIAACA0I8lmYwqRougFABtKSkqS3++X1LgwfK9evbR169YEZwWgPXLKOr0UvQBgQz6fL9EpAIAk2e6BtEg5o3QHAAAAmkGnFwAAAKEZI/EgGwAAAJzOKeMNFL0AAAAIjwfZAABAJHzHeVDxTLVv195Ep9AGVtQRjDEyDtkExxmlOwAAANAMOr0AAAAIj/EGAAAAOJ1THmRzRukOAACA2PtyybJIjxiYN2+ejDGqqamJKg6dXgAAAISXwE7v9u3b9eqrr+qcc86JOhadXgAAANjS9OnT9eCDD8ZkBQk6vQAAAAjLJGhHtuXLl+vss8/WoEGDYhIv6qLX6/XK6/VKkqoljfVvjjZk3Nk9R7vnJ5FjLNg9P8n+Odo9v+lKSXQKABAdo6jGG6qrq1VUVBQ893g88ng8wfOSkhJVVVWdcl15ebnmzp2rV155JeLv/rqoi96Tky8yRivcfaJOKp7G+jfbOke75yeRYyzYPT/J/jnaPT9Jkn9bRJc98sgjuvXWW2VZjQvL5+fna9euXbHMDABaychEsWRZbm6uKisrw76/cuXKkK//4x//0Keffhrs8u7YsUNDhgxRRUWFunXrFlEuzPQCgM2kpaVpypQpsixL69ev1+7duzVz5sxEpwUAp82AAQO0d+9effbZZ/rss8/UvXt3vfvuuxEXvBIzvQBgOxMnTtTEiRMlSUOGDJHL5dL69esTnBWAdottiAEA8bZo0SIFAgHNnj27yesjRoxQcnKyNiUoLwDthFHjjmyRHjHy2WefKScnJ6oYdHoBwKY2bNigsrIyFRcXq7i4uMl7a9askdT4LAUAxI9xTKeXohcAbKimpkaDBw9WXl6eKioqEp0OgHYsmgfZ7MQZvwIAHMTn8yk/P18pKSkhl/IBALQdRS8A2MykSZPk8/nU0NAgY4yMMRo1alSi0wLQHhlJxhX5YSP2ygYAoCeffFKWZTU5Vq9enei0ALRLpnFzikgPG2GmFwAAACEZJW4b4lij6AUAAEBoUW5DbCfOKN0BAACAZtDpBQAAQBjGdg+kRYqiFwAABzmrW3S7VoXzRVVNXOLGS2p6p7jEbag/HJe4tsbmFACARPB6vfJ6vZKkaknbVoxKaD528Sb3QZK04vf9E52CLaxadkmiU0i49M59YhPIIZtTUPQCwBnG4/HI4/FIatyG+LKxqxObkA28uWIU90GN92HsLR/EJfaZ1Ol9c8UoXTExPjsZnlGd3jWeRGdgKxS9AAAACM0w0wsAAID2wCFLllH0AgAAIDw6vQAAAHA8h6ze4IzSHQAAAGgGnV4AAACEZgxLlgEAAKAdcMh4A0UvAAAAwuNBNgAAADiag8YbnPErAAAAgGbQ6QUAAEB4zPQCAADA8ZjpBQAAgLMZx3R6nVG6AwAAAM2g0wsAAIDQjByzegNFLwAAAEKyJFkOGW+g6AUAAEAYhgfZAAAA0A44pOh1xq8AAAAAmkGnFwAAB/miqiYucbMLusYl7r5de+MSt6H+cFziZnTJikvcutr9cYkbC06Z6aXTCwAAgNDMiZneSI8oLViwQH379lVhYaFmzJgRVSw6vQAAAAgvQZ3e119/XS+88II2bNiglJQU7d0b3f8VoOgFAABAeAlap/fhhx/Wz372M6WkpEiSunaNbsQm6qLX6/XK6/VKkqoljfVvjjZk3Nk9R7vnJ5FjLNg9P8n+Odo9v+lKSXQKAJBQ1dXVKioqCp57PB55PJ5WXbt582atWbNGM2fOVGpqqubNm6fi4uKIc4m66D05+SJjtMLdJ9qQcTXWv9nWOdo9P4kcY8Hu+Un2z9Hu+UmS/NsSnQEARMlE9SBbbm6uKisrw75fUlKiqqqqU14vLy+Xz+fTF198obffflvr1q3ThAkT9Mknn8hEmA/jDQAAAAjNKK7r9K5cuTLsew8//LC+853vyBijSy65RC6XSzU1NcrNzY3ou1i9AQAAAGFZxhXxEY1vf/vbeu211yQ1jjocO3ZMOTk5Ecej0wsAAIAwTMJWb/jhD3+oH/7wh+rfv7+Sk5P16KOPRjzaIFH0AgAAwIaSk5P1P//zPzGLR9ELAACAsKIdU7ALil4AAACE55BtiCl6AQAAENqX2xA7gDN+BQAAANAMOr0AAAAIyZKi2pzCTih6AQAAEJ5DxhsoegEAABCWJTq9AAAAcDTjmCXLnPErAAAAgGbQ6QUAAEB4Dun0UvQCAAAgNMPqDQAAAHA4y0EzvRS9AACgRft27U10CrZQV7s/LnHTOmfEPKbL7Y5NIId0ep1RugMAAADNoNMLAACAsBhvAAAAgMMZNqcAAACA8zml0+uMXwEAAAA0g04vAAAAQjNyzOoNFL0AAAAIw8hyyGAARS8AAABCssSObAAAAGgHeJANAAAAOEPQ6QUAAEBYrNMLAAAAhzOOGW+g6AUAAEBYPMgGAAAAR7PknPEGZ/SrAQAAgGbQ6QUAAEBohpleAAAAtANOGW+g6AUAAEBYTun0OuNXAAAAAM2g6AUAAEBYlkzERzTee+89XXrppRo8eLCKiopUUVERVTyKXgAAAIRkndicItIjGjNmzNC9996r9957T/fdd59mzJgRVTxmegEAcJC0zhlxiXvoQF1c4sZLx8z0uMQ9crA+LnHjcX8Dfn9M4iTqQTZjjA4ePChJOnDggAoKCqKLZ1mWFU0Ar9crr9crSapev17bokoHAJzjAqVoi9UQ87j8vQugNdI791H9/k1RxRgwYICef+GFiK//1je/qdzc3OC5x+ORx+Np1bUbN27U6NGjZVmWAoGA3nrrLfXs2TPiXKIuek9WZIxmufvEKlxcjPVv1gob52j3/CRyjAW75yfZP0e75ydJ0/3b4lL0nqzIGKWMXR3X7zgTvLlilC7jPujNFaN01aT1cYl9JnV631wxSiXfr4xL7Hh1euPh/TWehBe910+YoMrK8P8sSkpKVFVVdcrr5eXlWrVqlUaOHKnvfve7euqpp+T1erVy5cqIc2G8AQAAAGFZVvzGG5orYm+++Wb95je/kSR973vf0y233BLVd/EgGwAAAMIwsuSK+IhGQUGB3njjDUnSa6+9pgsuuCCqeHR6AQAAEJKlxD3I9rvf/U533HGHfD6fUlNTg88yRIqiFwAAAGElqui9/PLLtX597GbUGW8AAACA49HpBQAAQFiJ6vTGGkUvAAAAwoh+O2G7oOgFAABAWPFcsux0ougFAABASIlcvSHWeJANAAAAjkenFwAAAGE5pdNL0QsAAICwKHoBAADgcMYxD7Ix0wsAAADHo9MLAACAkCxJAcYbAAAA4HTM9AIAAMDZLDanAAAAQDvglE4vD7IBAADA8ej0AgAAIAznLFlG0QsAgIMcOlAXl7hpnTPiEjde+R45WB+XuB0z0+MSN175RsuSc8YbKHoBAAAQFp1eAAAAOF4g0QnECA+yAQAAwPHo9AIAACAsxhsAAADgaJYMD7IBAADA+ZzS6WWmFwAAAI5HpxcAAABhMd4AAAAAZ7OkgJXoJGKDohcAAAAhsSMbAAAA2gUeZAMAAADOEHR6AQAAEJbFTC8AAACczSjgkJlexhsAAAAQkqXGmd5Ij2g8/fTTKiwslMvlUmVlZZP37r//fvXu3Vt9+/bVyy+/3Kp4dHoBAAAQVqLGG/r3769nn31WkydPbvL6Rx99pGXLlunDDz/Url27VFJSos2bN8vtdjcbj04vAAAAbKdfv37q27fvKa+/8MILmjhxolJSUnTeeeepd+/eqqioaDFe1J1er9crr9crSaqWNNa/OdqQcWf3HO2en0SOsWD3/CT752j3/KYrJdEpAEDUolmnt7q6WkVFRcFzj8cjj8cTVT47d+7UpZdeGjzv3r27du7c2eJ1URe9JydfZIxWuPtEGzKuxvo32zpHu+cnkWMs2D0/yf452j0/SZJ/W6IzAIDoRLkjW25u7inzuCcrKSlRVVXVKa+Xl5dr/PjxoVMKMW9hTMuFOTO9AAAACOnLB9niZeXKlW2+pnv37tq+fXvwfMeOHSooKGjxOmZ6AQAAcMYYN26cli1bpqNHj+rTTz/Vli1bdMkll7R4HZ1eAADQokMH6uISN61zRlzixsuRg/VxiZt+VueYx2xpNYPWStTqDc8995x+8pOfqLq6WmPGjNHgwYP18ssvq7CwUBMmTNBFF12kpKQkLVq0qFW/laIXAAAAYSVqc4rS0lKVlpaGfG/mzJmaOXNmm+JR9AIAACAstiEGAACAo1mKfmc1u+BBNgAAADgenV4AAACEFuU6vXZC0QsAAICwmOkFAACA40WzDbGdUPQCAAAgJEvOGW/gQTYAAAA4nu2L3mv9m/WrwO7gud+yNMn/T/0f/86E5POJ1aBKq227sSwPfKGp/s8076TfAQAAcCawrMgPO7H9eEOqjD63jumoFVCKcenvOqwuCUz7E+uotqpBRSa91df82dqvWa7u6mY6NHndb1lyG2fMyQAAAGeyW/EaKdsXvZI01KSpUod0mTL0V+ug/sVk6EPriCSpzvLrN4Eq7dFxpcilH7vydJ5J0dJAjfbIp32WT7t0TD9y5WqT1aCfS0r279AvXGcryRhttRr0+0C1GhRQptya5uqmbJOkn/u3q69J1QbrsA4poNtdeeqjjvqjVatjsvSRv0HfM9nKMm79LlAtSTKS7nf1UCfzVQN9UWCP9ui45gR2qsR01mH5tU9+7bGOK9O49W/K0W8CVToovzLl1sAT180PVClFRjusY9orn+5w5ek166A+thrUx6RquqvbKffp/wWqVWEdklvSYJOmH7lyNT9QpUtMmi4zjXubf8+/RU+7L9A/rMP6Y6BWWcatT62jGm7Sda5StNz6QsdkaaarQPkmWX+z6vREoFYuSWly65fuHvH7Bw0AAGzFsqSAQzanOCOK3hEmQ8sCtSp2pekz65iudHUOFr1LrVr1Mqm623W23rcOa36gSr9195Qk7baOaa6rh7brmP4j8Ll+7irQ/1pfaLiM1umQiq00/d/AXt3tKlBnk6Q1gTo9btXoDtNYUPolPeTuqUqrXk8E9mmOu7smmS7aqgZNceVJku7z79QUV1ddZDrqiBVQ8teecPyxK0/v+g+p3NVDnY1bSwM12mo16AFXD6UYl+7z79S3TKaucHXWq4EDut06oltOXFuvgMpd3fWODml2YJcedPXQT0yy7gx8rk+sBp1vUoPfU2f59bZVr4dd58oYo3rL3+J9/UxHtdicqwzj0i2BT3WV6ayH3D21PPCFVlj7davpqmWBWt3nOltdTIdWxQQAAM7ilE6v7Wd6Jek8k6K9Oq6/WnUqMmlN3vvIOqJvnuhiDjKdVCe/Dp0ozoaaNCUZo55KVkDSUHWSJPU0KdprHddOHdM2HdMvAjt1u3+bnrRqVWP5grGHnxhh6KVU7dXxkLn1Mx31SKBaywNf6JD8rRpXGGbSlXKiG/yxjmikyZQkfdNk6m8nfe4SpckYo3OVrCy5da5JkcsYnWOStUe+JjE7yaUOMlpg7dFbVp1SWvGP9gKlKtskqYNxKV/JuvjEve1pUrTHOh78fb8O7NHLgf0KtBgRAADAns6ITq8kXWLS9QerWnNdPVSnrzqOof7j48uys8OJP7mMUZIkc6IgdUnyy5Il6Rwla577nJDfGbxeRv6Q3yR9z5WtYitNldYh/Udgu2a7uquHSW72t6Q0s97dye90OJGvkQnm8uV54Gv5uI3RQ65z9L4O669Wnf5k7Ve5u4fcOrHUiJEsy5LvpOuSmsQ8+fcqeId/7MrTJuuI1lmHdEdgm37j6tnsbwMAAM5Cp/c0u9JkaqLponNNSpPXC01HrbbqJEn/sA4rU251Mu5WxTxbyToovz4+MSrhsyxts442e01H49KRkwrH3dYxnWtSdJ0rW72Voh061pafpX7qqL+eyH+1dVCXt+nqrxyxAjqkgIpMum41XfWJGn9Hnjron2qQJL2tQ1/rD7dst3VMfU1H3ejKUabcqgnT8QYAAM4UsCI/7OSM6fTmmA4aZ8465fXvmy76TaBKP/F/phS5NC3EA17hdDBGP3Plyxuo1iH55Zc03mSp59cK65MNVCc9Y+3T7f5t+p7J1kc6og2Bw3JJOsekqOjECEVreVxd9dtAlZ7z71Om3HpR0oY2RWh0RAHNCezU8RMd7FtMriTpKtNZ5YFdutO/TYNMJ6W2cVeV/w7UaJeOyVLj+Mh5Cn9vAACAs1iSLB5kOz2edl9wymsDTCcNcDcWlxnGrbvdZ5/yme+7csLGOfm9801qyBUJ7j/ptc7GrUfc5we/b777q//FP0IZLf6GL68NlVee6aDyk77rHP9mbZCarM6QZzpokfvc4HmolRuyTZIecp86enCWSWoyvvFvaiyGT76HUtPfe/J7d7kLWvp5AAAAtmf7ohcAAAAJYsNNJiJF0QsAAICw7DabGymKXgAAAITUONOb6Cxig6IXAM4wXq9XXq9XklQtaduKUQnNxy7e5D5I4j58ifsgpXfuE5M4FL0AgITweDzyeDySpCJjdNnY1YlNyAbeXDGK+yDuw5e4Dyes8SQ6A1uh6AUAAEBYzPQCAADA2Vi9AQAAAE5nSQoEEp1FbFD0AgAAICyndHpdiU4AAAAAiDc6vQAAAAjLKZ1eil4AAACEZFms3gAAAIB2wHJIq5eZXgAAADgenV4AAACE5ZBGL51eAAAAhBcIRH5E4+mnn1ZhYaFcLpcqKyuDr7/66qsaOnSoBgwYoKFDh+q1115rVTw6vQAAAAjJSuCObP3799ezzz6ryZMnN3k9JydHL774ogoKCvTBBx9o9OjR2rlzZ4vxKHoBAAAQVqJWb+jXr1/I1y+++OLgnwsLC9XQ0KCjR48qJSWl2XhRF71er1der1eSVC1prH9ztCHjzu452j0/iRxjwe75SfbP0e75TVfzfwEDgNNVV1erqKgoeO7xeOTxeGIW/3//93918cUXt1jwSjEoek9OvsgYrXD3iTZkXI31b7Z1jnbPTyLHWLB7fpL9c7R7fpIk/7ZEZwAAUYtmvCE3N7fJPO7XlZSUqKqq6pTXy8vLNX78+GZjf/jhh/rP//xPvfLKK63KhfEGAAAAhGXFcb5h5cqVEV23Y8cOlZaW6rHHHlOvXr1adQ1FLwAAAEKy445s+/fv15gxY3T//ffrsssua/V1LFkGAACAsL5cwSGSIxrPPfecunfvrrVr12rMmDEaPXq0JGnhwoXaunWrZs+ercGDB2vw4MHau3dvi/Ho9AIAAMB2SktLVVpaesrrd999t+6+++42x6PoBQAAQFgBu803RIiiFwAAoJWSOsSndPId98UlbrQsOWcbYopeAAAAhJbAHdlijaIXAAAAYVgKOKTqZfUGAAAAOB6dXgAAAIRlBRKdQWxQ9AIAACCkxgfZnDHeQNELAACA0Cwp4JBOLzO9AAAAcDw6vQAAAAiL8QYAAAA4miXJIRuyUfQCAAAgDEuyHFL1UvQCAAAgLIdMN/AgGwAAAJyPTi8AAADCCjDeAAAAACezLIvVGwAAAOB8bEMMAAAAxws4pNPLg2wAAABwPDq9AAAACIuZXgAAADiaZbF6AwAAANoBhzR6mekFAACA89HpBQAAaCXfcV+iUzjtLMYbAAAA4GSWZTlmyTKKXgAAAIRFpxcAAACO55SilwfZAAAA4Hh0egEAABCaJTmk0UvRCwAAgNAsOWe8gaIXAAAAYVhsQwwAAACHc9A2xDzIBgAAANt5+umnVVhYKJfLpcrKylPe//zzz5Wenq558+a1Kh5FLwAAAMKyLCviIxr9+/fXs88+q3/5l38J+f706dN19dVXtzoe4w0AAAAIKZEPsvXr1y/se88//7zOP/98paWltTpe1EWv1+uV1+uVJFVLGuvfHG3IuLN7jnbPTyLHWLB7fpL9c7R7ftOVkugUACA6VnRFb3V1tYqKioLnHo9HHo8nqpQOHTqkBx54QK+++mqrRxukGBS9JydfZIxWuPtEGzKuxvo32zpHu+cnkWMs2D0/yf452j0/SZJ/W6IzAICEys3NDTmP+6WSkhJVVVWd8np5ebnGjx8f8pp7771X06dPV3p6eptyYbwBAAAAYVgKxHHJspUrV7b5mnfeeUfPPPOMZsyYof3798vlcik1NVVlZWXNXkfRCwAAgLDstjnFmjVrgn+eNWuW0tPTWyx4JVZvAAAAQBiWErd6w3PPPafu3btr7dq1GjNmjEaPHh1VPDq9AAAACC2Bm1OUlpaqtLS02c/MmjWr1fHo9AIAAMDx6PQCAAAgLLvN9EaKohcAAABhRD+baxcUvQAAAAjJsiQrEEh0GjFB0QsAZ5iTd8L8ICVF/Xf/e6uu27Rpk/r27RvzfOwQt+c55yi3lffBybgPjbgPJ/h2xiRMoh5kizWKXgA4wzTZCbOoqNndjk6WnJzc6s+2hR3ituU+OBn3oRH3odHJ2/+CohcA2o1hw4YRF0CbMdMLADijnLyLUXuOC6ANLIvVGwAAifflmEN7x31oxH1oxH1oFIv7YIklywAANsC/3BtxHxpxHxpxHxrF6j4ELGes3sCObADQDpSUlMgYI2OMcnJyYhIzOTk5GDOWHnnkEblcrmDsgoKCmMYH0D5R9AKAw9XX12vVqlWaP3++du/erdraWs2cOTPquOPGjdPUqVNjkGFTaWlpmjJliizL0vr167V79+6Y5AsgAlbjeEOkh51Q9AKAw02ZMkXGGE2bNk3dunVTdna2lixZEnXcZ555RoWFhTHIsKmJEydq8eLFkqQhQ4bI5XJp/fr1Mf8eAC2zFHnBS9ELADitNm7cqKSkrx7hyMvL06FDhxKYUestWrRIgUBAs2fPTnQqQLtlWVbEh51Q9AJAOxTrOdx42LBhg8rKylRcXKzi4uJEpwPgDEfRCwAO169fP/l8vuD5nj171KlTpwRm1LKamhoNHjxYeXl5qqioSHQ6QPtlSYFAIOLDTih6AcDhFi5cKMuytGDBAlVVVWnfvn2aPHlyotMKy+fzKT8/XykpKaqqqkp0OkC7x0wvAOCMkJWVpZEjR+r2229Xfn6+srOzNXfu3KjjJiUlqaysTFLjuETv3r2jjilJkyZNks/nU0NDQ3DZslGjRsUkNoC2sWTJsgIRH3bC5hQA0A6sXr065jFPHpmIpSeffFJPPvlkXGIDaCPLOTuy0ekFAACA49HpBQAAQFhO6fRS9AIAACAMSwGbzeZGiqIXAAAAIVkOmuml6AUAAEBYls3W240UD7IBAADA8ej0AgAAIDTGGwAAAOB8lu02mYgURS8AAABCsiQFHNLpZaYXAAAAjkenFwAAAKFZzlm9gaIXAAAAYViOeZCN8QYAAACEZVmBiI9oPP300yosLJTL5VJlZWWT9zZs2KDhw4ersLBQAwYMUENDQ4vx6PQCAAAgtAQuWda/f389++yzmjx5cpPXfT6fbrzxRj3++OMaNGiQamtr1aFDhxbjUfQCAADAdvr16xfy9VdeeUUDBw7UoEGDJEldunRpVbyoi16v1yuv1ytJ+iAlRbP6Z4T83KZNm9S3b982xY7kmpau+3H1OcrNDZ2jHdg9P4kcY8Hu+Un2z9Hu+UnS7o/pKwA4s1126bmq2Tk94uuPHDmioqKi4LnH45HH44kqp82bN8sYo9GjR6u6uloTJ07UjBkzWrwu6r+RT06+qKjolJmLLyUnJ4d9L5xIrmnpuuZytAO75yeRYyzYPT/J/jnaPT9JTf6iB4Az0UsvvRTX+CUlJaqqqjrl9fLyco0fPz7kNT6fT3/729+0bt06derUSVdccYWGDh2qK664otnvOm1tiGHDhp2Wa6K5DgAAAKfPypUr23xN9+7dNXLkSOXk5EiSrrnmGr377rstFr2nbfWGNWvWnJZrorkOAAAA9jZ69Ght2LBBhw8fls/n0xtvvKGLLrqoxetiWvRGO6NxOtg9R7vnJ5FjLNg9P8n+Odo9P+nMyBEA7Oq5555T9+7dtXbtWo0ZM0ajR4+WJJ111lm68847VVxcrMGDB2vIkCEaM2ZMi/GMZVnOWHEYAAAACIPNKQAAAOB4cS96S0pKZIyRMSY4cNyS5OTk4DWt9cgjj8jlcgWvKygoiDRlAAAAOExci976+nqtWrVK8+fP1+7du1VbW6uZM2e2eN24ceM0derUNn1XWlqapkyZIsuytH79eu3evbtV3wUAAADni+tM74033qilS5cqEGjce/nLHTNqa2tbvHbRokUqKytTpOm53W5deeWVcV9fDgAAAPYX107vxo0blZT01VLAeXl5OnToUDy/UlJjwRwIBDR79uy4fxcAAADs77Q/yNaWOd1IbNiwQWVlZSouLlZxcXFcvwsAAABnhrgWvf369ZPP5wue79mzR506dYrb99XU1Gjw4MHKy8tTRUVF3L4HAAAAZ5a4Fr0LFy6UZVlasGCBqqqqtG/fPk2ePDku3+Xz+ZSfn6+UlJSQezgDAACg/Yr75hSjRo3SG2+8IUnKzs5u1UNsSUlJ8vv9wfNevXpp69atzV5z/fXX66mnnmry2siRI7V69eq2Jw0AAABHYUc2AAAAOB47sgEAAMDxKHoBAADgeBS9AAAAcDyKXgAAADgeRS8AAAAcj6IXAAAAjkfRCwAAAMf7/8gEzMJzB6lHAAAAAElFTkSuQmCC\n",
          "text/plain": "<Figure size 720x360 with 3 Axes>"
         },
         "metadata": {},
         "output_type": "display_data"
        }
       ]
      }
     },
     "fb2d5d717e5d4494a404ffd6a8a0601e": {
      "model_module": "@jupyter-widgets/output",
      "model_module_version": "1.0.0",
      "model_name": "OutputModel",
      "state": {
       "layout": "IPY_MODEL_d8d9eaa188804b808f80ccf86b31a223",
       "outputs": [
        {
         "name": "stdout",
         "output_type": "stream",
         "text": "10000 -13.59981122511698 -1.8315481628963302\n"
        },
        {
         "data": {
          "image/png": "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\n",
          "text/plain": "<Figure size 720x360 with 3 Axes>"
         },
         "metadata": {},
         "output_type": "display_data"
        }
       ]
      }
     }
    },
    "version_major": 2,
    "version_minor": 0
   }
  }
 },
 "nbformat": 4,
 "nbformat_minor": 2
}
