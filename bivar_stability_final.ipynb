{
 "cells": [
  {
   "cell_type": "code",
   "execution_count": 1,
   "metadata": {},
   "outputs": [],
   "source": [
    "from operator import mul as _opmul\n",
    "from functools import partial, reduce\n",
    "from itertools import product as _prod, combinations_with_replacement as _combu, starmap as _star\n",
    "from multiprocessing import Pool\n",
    "from timeit import timeit, default_timer as timer\n",
    "\n",
    "import numpy as np\n",
    "import numpy.linalg as la\n",
    "from scipy.special import comb\n",
    "from scipy.linalg import blas\n",
    "\n",
    "# Plotting Packages\n",
    "import matplotlib.pyplot as plt\n",
    "import ipywidgets as widgets"
   ]
  },
  {
   "cell_type": "code",
   "execution_count": 2,
   "metadata": {},
   "outputs": [],
   "source": [
    "plt.rcParams['figure.figsize'] = 10, 5\n",
    "plt.rcParams['figure.facecolor'] = 'white'\n",
    "\n",
    "# np.set_printoptions(precision=20)\n",
    "np.set_printoptions(linewidth=120, precision=8, suppress=False, formatter={'float': '{:+5.3e}'.format})"
   ]
  },
  {
   "cell_type": "code",
   "execution_count": 3,
   "metadata": {},
   "outputs": [],
   "source": [
    "def trace_layout_h(traces, moment):\n",
    "    \"\"\" Prepare horizontal trace layout (m x n) \"\"\"\n",
    "    tr_count, tr_len = len(traces), len(traces[0])\n",
    "    dtype=np.promote_types(np.result_type(traces[0][0]), 'i8')\n",
    "    trace_copy = np.empty((tr_count, 2 * moment * tr_len + 1), dtype=dtype)\n",
    "    trace_copy[:] = -1\n",
    "    trace_copy[:, 0] = 1\n",
    "    trace_copy_view = trace_copy[:, 1:].reshape(tr_count, 2 * moment, tr_len)\n",
    "    for i, tr in enumerate(traces):\n",
    "        trace_copy_view[i, 0] = tr\n",
    "    for j in range(1, 2 * moment):\n",
    "        np.multiply(trace_copy_view[:, 0, :], trace_copy_view[:, j - 1, :], trace_copy_view[:, j, :])\n",
    "    \n",
    "    return trace_copy\n",
    "\n",
    "def trace_layout_v(traces, moment):\n",
    "    \"\"\" Prepare vertical trace layout (n x m) \"\"\"\n",
    "    tr_count, tr_len = len(traces), len(traces[0])\n",
    "    dtype=np.promote_types(np.result_type(traces[0][0]), 'i8')\n",
    "    trace_copy = np.empty((tr_count, 2 * moment * tr_len + 1), dtype=dtype)\n",
    "    trace_copy[:] = -1\n",
    "    trace_copy[:, 0] = 1\n",
    "    trace_copy_view = trace_copy[:, 1:].reshape(tr_count, 2 * moment, tr_len)\n",
    "    for i, tr in enumerate(traces):\n",
    "        trace_copy_view[i, 0] = tr\n",
    "    C, l = trace_copy.T.tolist(), tr_len\n",
    "    for j in range(1, 2 * moment):\n",
    "        for i in range(l):\n",
    "            C[1+(j)*l:1+(j+1)*l][i][:] = vmul(C[1+0*l:1+1*l][i], C[1+(j-1)*l:1+(j)*l][i])\n",
    "    return C"
   ]
  },
  {
   "cell_type": "code",
   "execution_count": 4,
   "metadata": {},
   "outputs": [],
   "source": [
    "# Working with native python datatypes: arbitrary precition integers and lists\n",
    "def binom(N, k):\n",
    "    return comb(N, k, exact=True)\n",
    "\n",
    "def vmul(x, y):\n",
    "    \"\"\"Vectorized (sort-of) element-wise multiplication\"\"\"\n",
    "    return map(_opmul, x, y)\n",
    "\n",
    "def summul_gen():\n",
    "    _compose_star = lambda f, g: lambda *args: f(g(*args))\n",
    "    return reduce(_compose_star, (sum, partial(map, _opmul)))  # \"vectorized\" dot-product\n",
    "\n",
    "summul = summul_gen()\n",
    "\n",
    "def mmuls(A):\n",
    "    \"\"\"Square matrix multiplication A'*A\"\"\"\n",
    "    return [[summul(_a, _b) for _a in A] for _b in A]        # fastest for 700x10, 20x10k\n",
    "\n",
    "def mmult(A):\n",
    "    \"\"\"Upper triangular matrix multiplication A'*A\"\"\"\n",
    "    return list(_star(summul, _combu(A, 2)))                 # fastest for 700x10\n",
    "\n",
    "def dotcols(A, i):\n",
    "    return [summul(A[i], A[j]) for j in range(len(A))]       # dot-product for all cols per row"
   ]
  },
  {
   "cell_type": "code",
   "execution_count": 5,
   "metadata": {},
   "outputs": [],
   "source": [
    "# This save-read module trick fixes a jupyter bug in applying\n",
    "# Pool().map over functions when this notebook runs on Windows\n",
    "import inspect\n",
    "mod_sources = (summul_gen,  dotcols)\n",
    "func_bodies = list(map(inspect.getsource, mod_sources))\n",
    "\n",
    "# store_ = print # debugging\n",
    "with open('mod_mmpar.py', 'w') as h:\n",
    "    store_ = h.write\n",
    "    store_('from operator import mul as _opmul\\n')\n",
    "    store_('from functools import partial, reduce\\n\\n')\n",
    "    for fb in func_bodies:\n",
    "        store_(fb)\n",
    "        store_('\\n')\n",
    "    store_('summul = summul_gen()')\n",
    "\n",
    "from mod_mmpar import summul, dotcols\n",
    "\n",
    "def mmulsip(A):\n",
    "    \"\"\"Square matrix multiplication (process-parallel)\"\"\"\n",
    "    with Pool(16) as p:\n",
    "        return list(p.map(partial(dotcols, A), range(len(A))))"
   ]
  },
  {
   "cell_type": "code",
   "execution_count": 6,
   "metadata": {},
   "outputs": [],
   "source": [
    "def _block_index(i, ll):\n",
    "    \"\"\"Find a block initial index in the triangular view\"\"\"\n",
    "    k = slice(ll * i - (i - 1) * i // 2, ll * (i + 1) - (i + 1) * i // 2)\n",
    "    return k\n",
    "\n",
    "def sums2moms(moms, sums, tr_len, n, lm, rm, ave1st):\n",
    "    \"\"\"Convert an accumulator block into a co-moment\"\"\"\n",
    "    retm = np.empty((2, tr_len * (tr_len + 1) // 2), dtype=np.float64)\n",
    "    cm_func = calc_central_moments_sums\n",
    "    for i in range(tr_len):\n",
    "        k = _block_index(i, tr_len)\n",
    "        retm[0, k] = cm_func(moms, sums, tr_len, n, lm, rm, i)\n",
    "    return retm[0]\n",
    "\n",
    "def ttest_terms(acc, moment, ave1st=False):\n",
    "    \"\"\"Find all required co-moments for Welch's t-test\"\"\"\n",
    "    tr_len = (len(acc)-1) // moment // 2\n",
    "    n0, sum0 = acc[0][0], acc[0][1:1+tr_len]\n",
    "    return np.stack([sums2moms(acc, sum0, tr_len, n0, lm, rm, ave1st) for lm, rm in _combu(range(1, moment+1), 2)])"
   ]
  },
  {
   "cell_type": "code",
   "execution_count": 7,
   "metadata": {},
   "outputs": [],
   "source": [
    "def stages_fine(a, moment):\n",
    "    \"\"\" Find all processing stages in python arbitrary precision integers\"\"\"\n",
    "    av = trace_layout_v(a.tolist(), moment)\n",
    "#     acc = mmuls(av)   # Sinle process\n",
    "    acc = mmulsip(av) # Multiprocess\n",
    "    fine_res = ttest_terms(acc, moment)\n",
    "    return av, acc, fine_res\n",
    "\n",
    "def stages_float_sums(a, moment):\n",
    "    \"\"\" Find all processing stages in doubles\"\"\"\n",
    "    ah = trace_layout_h(a.astype(np.float64), moment)\n",
    "    bin1 = np.dot(ah.T, ah) # A*A'\n",
    "    float_res = ttest_terms(bin1, moment, ave1st=False)\n",
    "    return ah.T, bin1, float_res\n",
    "\n",
    "def stages_float_detrend(a, moment):\n",
    "    \"\"\" Find all processing stages in doubles with detrending\"\"\"\n",
    "    dt_num = max(len(a)//10, 3)\n",
    "    a = a - np.mean(a[:dt_num], axis=0).astype(np.int64) # integer mean\n",
    "    return stages_float_sums(a, moment)"
   ]
  },
  {
   "cell_type": "code",
   "execution_count": 8,
   "metadata": {},
   "outputs": [],
   "source": [
    "def error_estimation(fine, real, m=None):\n",
    "    \"\"\"Estimate absolute and relative errors for layout or co-moments\"\"\"\n",
    "    # Abs err\n",
    "    abs_err = np.abs(fine - real).astype(np.float64)\n",
    "    # Rel err\n",
    "    max_fine = np.tile(np.max(np.abs(fine), axis=1)[:, np.newaxis], reps=abs_err.shape[1])\n",
    "    return abs_err, abs_err / max_fine\n",
    "\n",
    "def error_estimation_acc(fine, real, m):\n",
    "    \"\"\"Estimate absolute and relative errors for accumulator\"\"\"\n",
    "    l = (len(fine[0]) - 1) // 2 // m\n",
    "    # Abs err\n",
    "    abs_err = np.abs(fine - real).astype(np.float64)[1:,1:]\n",
    "    # Rel err\n",
    "    sm = np.abs(fine).astype(np.float64)[1:,1:].reshape(2*m, l, 2*m, l).max(axis=(1,3))\n",
    "    max_fine = np.broadcast_to(sm.reshape(2*m, 1, 2*m, 1), (2*m, l, 2*m, l)).reshape(2*m*l, 2*m*l)\n",
    "    return abs_err, abs_err / max_fine"
   ]
  },
  {
   "cell_type": "code",
   "execution_count": 9,
   "metadata": {},
   "outputs": [],
   "source": [
    "def plot_err(sum_rerr, mom_rerr, moment, tr_len, title=None, cmap=None, vmin=1e-16, vmax=0e-1, fnum=None):\n",
    "    fnum = fnum if fnum is not None else 0.0\n",
    "    cmap = cmap if cmap is not None else 'Reds'\n",
    "\n",
    "    mom_rerr_vis = np.full((moment, tr_len, moment, tr_len), fnum, dtype=np.float64)\n",
    "    for mm, re in zip(_combu(range(moment), 2), mom_rerr):\n",
    "        rv = mom_rerr_vis[mm[0], :, mm[1]]\n",
    "        rv[np.triu_indices_from(rv)] = re\n",
    "\n",
    "    sum_rerr_vis = sum_rerr.reshape(2*moment*tr_len, 2*moment*tr_len)\n",
    "    mom_rerr_vis = mom_rerr_vis.reshape(moment*tr_len, moment*tr_len)\n",
    "    # vmin, vmax = np.min(rel_err[rel_err > 1e-13]), np.max(rel_err) \n",
    "\n",
    "    fig, axs = plt.subplots(1,2, figsize=(10, 5), tight_layout=True)\n",
    "\n",
    "    axs[0].set_title('Gram acc')\n",
    "    im1 = axs[0].imshow(sum_rerr_vis, cmap, vmin=vmin, vmax=vmax)\n",
    "    axs[1].set_title('Co-moments')\n",
    "    im2 = axs[1].imshow(mom_rerr_vis, cmap, vmin=vmin, vmax=vmax)\n",
    "\n",
    "    if title: axs[0].text(1, 4*moment, title)\n",
    "\n",
    "    for i, ax in enumerate(axs):\n",
    "        # Major ticks\n",
    "        ax.set_xticks(np.arange(-0.5, (2-i)*moment*tr_len, tr_len))\n",
    "        ax.set_yticks(np.arange(-0.5, (2-i)*moment*tr_len, tr_len))\n",
    "        ax.set_xticklabels([])\n",
    "        ax.set_yticklabels([])\n",
    "\n",
    "        # Minor ticks\n",
    "        ax.set_xticks(np.tile(np.arange(0, tr_len), reps=moment), minor=True)\n",
    "        ax.set_yticks(np.tile(np.arange(0, tr_len), reps=moment), minor=True)\n",
    "        ax.set_xticklabels(np.tile(np.arange(0, tr_len), reps=moment), minor=True)\n",
    "        ax.set_yticklabels(np.tile(np.arange(0, tr_len), reps=moment), minor=True)\n",
    "\n",
    "        ax.grid(linewidth=1, color='red')\n",
    "\n",
    "    fig.colorbar(im1)\n",
    "\n",
    "def stage_err(a, m, stages_func):\n",
    "    \"\"\"Find relative numeric errors for all stages\"\"\"\n",
    "    sfine = stages_fine(a, m)\n",
    "    sfloat = stages_func(a, m)\n",
    "\n",
    "    # Return relative error only, i.e. [1]\n",
    "    sef = [error_estimation, error_estimation_acc, error_estimation]\n",
    "    return [se(csf, csr, m)[1] for se, csf, csr in zip(sef, sfine, sfloat)]\n",
    "\n",
    "def plot_err_setup(tr_cnt, rerr):\n",
    "    pargs = { 'cmap' :'coolwarm', 'vmin': -16, 'vmax' : 0, 'fnum' : -100 }\n",
    "    rerr1_log, rerr2_log = np.log10(rerr[1] + 1.0e-32), np.log10(rerr[2] + 1.0e-32)\n",
    "    plot_err(rerr1_log, rerr2_log, moment, tr_len, title='Moments from sums', **pargs)\n",
    "    print(tr_cnt, np.min(rerr2_log), np.max(rerr2_log))\n",
    "\n",
    "def error_interact_gauss(tr_cnt, param1, param2):\n",
    "    # Gauss distribution\n",
    "    tr_len, moment = 3, 4\n",
    "    loc, scale = param1, param2\n",
    "    a = np.random.normal(loc, scale, (tr_cnt, tr_len)).astype(dtype=np.int64)\n",
    "    rerr = stage_err(a, moment, stages_float_sums)\n",
    "    plot_err_setup(tr_cnt, rerr)\n",
    "\n",
    "def error_interact_gauss_detrend(tr_cnt, param1, param2):\n",
    "    # Gauss distribution detrended\n",
    "    tr_len, moment = 3, 4\n",
    "    loc, scale = param1, param2\n",
    "    a = np.random.normal(loc, scale, (tr_cnt, tr_len)).astype(dtype=np.int64)\n",
    "    rerr = stage_err(a, moment, stages_float_detrend)\n",
    "    plot_err_setup(tr_cnt, rerr)\n",
    "\n",
    "def error_interact_uniform(tr_cnt, param1, param2):\n",
    "    # Uniform distribution\n",
    "    tr_len, moment = 3, 4\n",
    "    lo, hi = param1, param2\n",
    "    a = np.random.randint(lo, hi, (tr_cnt, tr_len), dtype=np.int64)\n",
    "    rerr = stage_err(a, moment, stages_float_sums)\n",
    "    plot_err_setup(tr_cnt, rerr)"
   ]
  },
  {
   "cell_type": "code",
   "execution_count": 10,
   "metadata": {},
   "outputs": [],
   "source": [
    "def _get_mom(bin, tr_len, i, j, _i, _j):\n",
    "    # Full accumulator required as it works with python list of lists\n",
    "    return bin[1 + i*tr_len + _i][1 + j*tr_len + _j]\n",
    "\n",
    "def calc_central_moments_sums(mom, asum, tr_len, n, k, l, i):\n",
    "  # Main function to convert an accumulator sub-block into a co-moment\n",
    "  # This code fits for both integer lists and numpy matrices\n",
    "  trace = False\n",
    "  sum_i, sum_j = asum[i], asum[i:tr_len]\n",
    "  inv_n = 1.0 / n**(k+l+1)\n",
    "\n",
    "  res3, res4 = [[] for _sj in sum_j], [[] for _sj in sum_j]\n",
    "\n",
    "  res = [n * (-1) ** (k + l) * (1 - k - l) * sum_i ** k * _sj ** l for _sj in sum_j]\n",
    "\n",
    "  for _i, _sj in enumerate(sum_j):\n",
    "    _j = i + _i\n",
    "    for p in range(2, k + 1):\n",
    "      Mp, s1, s2 = _get_mom(mom, tr_len, 0, p-2, i, i), sum_i**(k - p), _sj**l\n",
    "      rr = n**p * (-1)**(k + l - p) * binom(k, p) * Mp * s1 * s2\n",
    "      res4[_i].append(rr)\n",
    "      if trace: print('\\t{:5.3e} {:+22.16e}, {:7}**{:2d} = {:+22.16e}, {:7}**{:2d} = {:+22.16e}, := {:+22.16e}'.format(\n",
    "        float(n**p), Mp, int(sum_i), (k - p), s1, int(_sj), l, s2, rr))\n",
    "\n",
    "    for q in range(2, l + 1):\n",
    "      Mq, s1, s2 = _get_mom(mom, tr_len, 0, q-2, _j, _j), sum_i**k, _sj**(l - q)\n",
    "      rr = n**q * (-1)**(k + l - q) * binom(l, q) * Mq * s1 * s2\n",
    "      res4[_i].append(rr)\n",
    "      if trace: print('\\t{:5.3e} {:+22.16e}, {:7}**{:2d} = {:+22.16e}, {:7}**{:2d} = {:+22.16e}, := {:+22.16e}'.format(\n",
    "        float(n**q), Mq, int(sum_i), k, s1, int(_sj), (l - q), s2, rr))\n",
    "  if trace: print(\"========\")\n",
    "\n",
    "  for _i, _sj in enumerate(sum_j):\n",
    "    _j = i + _i\n",
    "    for p in range(1, k + 1):\n",
    "      for q in range(1, l + 1):\n",
    "        Mpq = _get_mom(mom, tr_len, p-1, q-1, i, _j) if p <= q else _get_mom(mom, tr_len, q-1, p-1, _j, i)\n",
    "        s1 = sum_i ** (k - p)\n",
    "        s2 =   _sj ** (l - q)\n",
    "        rr = n**p * n**q * (-1) ** (k + l - p - q) * binom(k, p) * binom(l, q) * Mpq * s1 * s2\n",
    "        #res[_i] += rr\n",
    "        res3[_i].append(rr)\n",
    "        if trace: print('\\t{:+22.16e}, {:7}**{:1d} = {:+22.16e}, {:7}**{:1d} = {:+22.16e}, := {:+22.16e}'.format(\n",
    "          Mpq, int(sum_i), (k - p), s1, int(_sj), (l - q), s2, rr))\n",
    "\n",
    "  res4s = list(map(sorted, res4))\n",
    "  if trace: \n",
    "      print(\"Edge products to sum: \")     # Print out the list of products of full degrees\n",
    "      for r4s in res4s: list(map(print, ['{:+22.16e}'.format(r) for r in r4s] + ['--------']))\n",
    "\n",
    "  res3s = list(map(sorted, res3))\n",
    "  if trace: \n",
    "      print(\"Mixed products to sum: \")    # Print out the list of products of intermediate degrees\n",
    "      for r3s in res3s: list(map(print, ['{:+22.16e}'.format(r) for r in r3s] + ['--------']))\n",
    "\n",
    "  if trace: print(\"\")\n",
    "\n",
    "  if trace: print(\"Conversion result step1:    {} ({})\".format(['{:+22.16e}'.format(r) for r in res], res))\n",
    "\n",
    "  res_dge = list(map(sum, res4))                 # Sum up products of edge degrees\n",
    "  if trace: print(\"Edge products summed up:   \", ['{:+22.16e}'.format(r) for r in res_dge])\n",
    "\n",
    "  res = [sum(r) for r in zip(res, res_dge)]\n",
    "  if trace: print(\"Conversion result step2:    {} ({})\".format(['{:+22.16e}'.format(r) for r in res], res))\n",
    "\n",
    "  res_int = list(map(sum, res3))                 # Sum up products of intermediate degrees\n",
    "  if trace: print(\"Mixed products summed up:  \", ['{:+22.16e}'.format(r) for r in res_int])\n",
    "\n",
    "  res = [sum(r) for r in zip(res, res_int)]\n",
    "  if trace: print(\"Conversion result step3:    {} ({})\".format(['{:+22.16e}'.format(r) for r in res], res))\n",
    "\n",
    "  res = [r * inv_n for r in res]\n",
    "  if trace: print(\"Final result and inv_n:    \", ['{:+22.16e}'.format(r) for r in res], inv_n)\n",
    "  if trace: print('========')\n",
    "\n",
    "  return res"
   ]
  },
  {
   "cell_type": "markdown",
   "metadata": {},
   "source": [
    "# One-time source data generation"
   ]
  },
  {
   "cell_type": "code",
   "execution_count": 11,
   "metadata": {},
   "outputs": [],
   "source": [
    "moment = 4  # All powers for E((x-a)^m*(y-b)^m)\n",
    "tr_cnt, tr_len = 5_000, 3\n",
    "# tr_cnt, tr_len = 17, 3 # 7_000, 3  # 5, 3\n",
    "\n",
    "# # Uniform distribution\n",
    "# lo, hi = 19_700, 20_300\n",
    "# a = np.random.randint(lo, hi, (tr_cnt, tr_len), dtype=np.int64)\n",
    "\n",
    "# Normal distribution\n",
    "loc, scale = 20000, 300  # SD less than 2% of mean leads to unusable results\n",
    "a = np.random.normal(loc, scale, (tr_cnt, tr_len)).astype(dtype=np.int64)"
   ]
  },
  {
   "cell_type": "code",
   "execution_count": 12,
   "metadata": {
    "tags": []
   },
   "outputs": [],
   "source": [
    "# %%time\n",
    "layout_fine, sums_fine, com_fine = stages_fine(a, moment)"
   ]
  },
  {
   "cell_type": "code",
   "execution_count": 13,
   "metadata": {
    "tags": []
   },
   "outputs": [],
   "source": [
    "# %%time\n",
    "layout_float, sums_float_sum, com_float_sum = stages_float_sums(a, moment)"
   ]
  },
  {
   "cell_type": "code",
   "execution_count": 14,
   "metadata": {},
   "outputs": [],
   "source": [
    "# %%time\n",
    "layout_float_off, sums_float_off, com_float_off = stages_float_detrend(a, moment)"
   ]
  },
  {
   "cell_type": "code",
   "execution_count": 15,
   "metadata": {
    "scrolled": true
   },
   "outputs": [
    {
     "name": "stdout",
     "output_type": "stream",
     "text": [
      "Straightforward method relative errors\n",
      "Gram matrix (25, 25): (+0.000e+00 - +4.906e-16)\n",
      "Co-moments: (10, 6): (+6.731e-14 - +1.104e-01)\n"
     ]
    }
   ],
   "source": [
    "print(\"Straightforward method relative errors\")\n",
    "# Estimate the numerical error for Gram matrix\n",
    "_, rerr_acc_sum = error_estimation_acc(sums_fine, sums_float_sum, moment)\n",
    "print(\"Gram matrix {}: ({:+5.3e} - {:+5.3e})\".format(sums_float_sum.shape, np.min(rerr_acc_sum), np.max(rerr_acc_sum)))\n",
    "# Estimate the error for central co-moment conversion\n",
    "_, rerr_com_sum = error_estimation(com_fine, com_float_sum)\n",
    "print(\"Co-moments: {}: ({:+5.3e} - {:+5.3e})\".format(rerr_com_sum.shape, np.min(rerr_com_sum), np.max(rerr_com_sum)))"
   ]
  },
  {
   "cell_type": "code",
   "execution_count": 16,
   "metadata": {},
   "outputs": [
    {
     "name": "stdout",
     "output_type": "stream",
     "text": [
      "Detrend method relative errors\n",
      "Gram matrix accumulator is not relevant\n",
      "Gram matrix (24, 24): (+9.830e-01 - +1.000e+00)\n",
      "Co-moments: (10, 6): (+0.000e+00 - +4.345e-15)\n"
     ]
    }
   ],
   "source": [
    "print(\"Detrend method relative errors\")\n",
    "print(\"Gram matrix accumulator is not relevant\")\n",
    "# Estimate the numerical error for Gram matrix\n",
    "_, rerr_acc_off = error_estimation_acc(sums_fine, sums_float_off, moment)\n",
    "print(\"Gram matrix {}: ({:+5.3e} - {:+5.3e})\".format(rerr_acc_off.shape, np.min(rerr_acc_off), np.max(rerr_acc_off)))\n",
    "# Estimate the error for central co-moment conversion\n",
    "_, rerr_com_off = error_estimation(com_fine, com_float_off)\n",
    "print(\"Co-moments: {}: ({:+5.3e} - {:+5.3e})\".format(rerr_com_sum.shape, np.min(rerr_com_off), np.max(rerr_com_off)))"
   ]
  },
  {
   "cell_type": "code",
   "execution_count": 17,
   "metadata": {},
   "outputs": [
    {
     "data": {
      "text/plain": [
       "(0.0, 3.1038175328451133e-16)"
      ]
     },
     "execution_count": 17,
     "metadata": {},
     "output_type": "execute_result"
    }
   ],
   "source": [
    "# Estimate the numerical error for the layout calculation\n",
    "rerr_layout = error_estimation(layout_fine, layout_float)[1]\n",
    "np.min(rerr_layout), np.max(rerr_layout)"
   ]
  },
  {
   "cell_type": "code",
   "execution_count": 18,
   "metadata": {},
   "outputs": [
    {
     "name": "stdout",
     "output_type": "stream",
     "text": [
      "Comoments, which are not precise for the following co-moms: \n",
      "Co-moment degree combination (0, 3): (+1.050e-07 - +1.368e-05)\n",
      "Co-moment degree combination (1, 2): (+4.384e-06 - +3.295e-05)\n",
      "Co-moment degree combination (1, 3): (+5.526e-06 - +2.809e-05)\n",
      "Co-moment degree combination (2, 2): (+1.871e-06 - +3.824e-05)\n",
      "Co-moment degree combination (2, 3): (+2.628e-02 - +1.301e-01)\n",
      "Co-moment degree combination (3, 3): (+2.248e-02 - +1.139e-01)\n"
     ]
    }
   ],
   "source": [
    "print(\"Comoments, which are not precise for the following co-moms: \")\n",
    "for m, cmdata in enumerate(zip(_combu(range(moment), 2), com_float_sum, com_fine)):\n",
    "    degrees, cm = cmdata[0], cmdata[1:]\n",
    "    if not np.allclose(*cm):\n",
    "        diff = np.abs(np.subtract(*cm))\n",
    "        rel = diff / np.max(cm[0])\n",
    "        print(\"Co-moment degree combination {}: ({:+5.3e} - {:+5.3e})\".format(degrees, np.min(rel), np.max(rel)))\n",
    "    pass"
   ]
  },
  {
   "cell_type": "code",
   "execution_count": 19,
   "metadata": {},
   "outputs": [
    {
     "name": "stdout",
     "output_type": "stream",
     "text": [
      "Show one co-moment\n",
      "[+5.734e+21 +4.826e+20 +5.853e+20 +6.893e+21 +7.007e+20 +8.032e+21]\n",
      "[+6.216e+21 +6.774e+20 +7.601e+20 +7.779e+21 +1.021e+21 +7.620e+21]\n"
     ]
    }
   ],
   "source": [
    "print(\"Show one co-moment\")\n",
    "m = 9   # 0 => (1, 1) 4 => (2, 2), 7 => (3, 3), 9 => (4, 4)\n",
    "list(map(print, [com_fine[m], com_float_sum[m]]));"
   ]
  },
  {
   "cell_type": "markdown",
   "metadata": {},
   "source": [
    "# One-time log error visualization"
   ]
  },
  {
   "cell_type": "code",
   "execution_count": 20,
   "metadata": {},
   "outputs": [
    {
     "name": "stdout",
     "output_type": "stream",
     "text": [
      "-13.171904620155997 -0.9572274702826938\n"
     ]
    },
    {
     "data": {
      "image/png": "[encoded data removed]",
      "text/plain": [
       "<Figure size 720x360 with 3 Axes>"
      ]
     },
     "metadata": {},
     "output_type": "display_data"
    }
   ],
   "source": [
    "# Straight-forward method\n",
    "rerr_acc_sum_log, rerr_com_sum_log = np.log10(rerr_acc_sum + 1.0e-32), np.log10(rerr_com_sum + 1.0e-32)\n",
    "print(np.min(rerr_com_sum_log), np.max(rerr_com_sum_log))\n",
    "plot_err(rerr_acc_sum_log, rerr_com_sum_log, moment, tr_len, title='Moments from sums', \n",
    "         cmap='coolwarm', vmin=-16, vmax=0, fnum=-100)"
   ]
  },
  {
   "cell_type": "code",
   "execution_count": 21,
   "metadata": {},
   "outputs": [
    {
     "name": "stdout",
     "output_type": "stream",
     "text": [
      "-32.0 -14.362039827842342\n"
     ]
    },
    {
     "data": {
      "image/png": "[encoded data removed]",
      "text/plain": [
       "<Figure size 720x360 with 3 Axes>"
      ]
     },
     "metadata": {},
     "output_type": "display_data"
    }
   ],
   "source": [
    "# Detrend method (Gram matrix accumulator is not relevant)\n",
    "rerr_acc_off_log, rerr_com_off_log = np.log10(rerr_acc_off + 1.0e-32), np.log10(rerr_com_off + 1.0e-32)\n",
    "print(np.min(rerr_com_off_log), np.max(rerr_com_off_log))\n",
    "plot_err(rerr_acc_off_log, rerr_com_off_log, moment, tr_len, title='Moments from detrend',\n",
    "         cmap='coolwarm', vmin=-16, vmax=0, fnum=-100)"
   ]
  },
  {
   "cell_type": "markdown",
   "metadata": {},
   "source": [
    "# Interactive visualization"
   ]
  },
  {
   "cell_type": "code",
   "execution_count": 22,
   "metadata": {},
   "outputs": [
    {
     "name": "stdout",
     "output_type": "stream",
     "text": [
      "Gaussian distribution of 3 random variables\n"
     ]
    },
    {
     "data": {
      "application/vnd.jupyter.widget-view+json": {
       "model_id": "4a98f52aa1d2467ea7ec78d70cd41c76",
       "version_major": 2,
       "version_minor": 0
      },
      "text/plain": [
       "interactive(children=(IntSlider(value=10000, continuous_update=False, description='Count', layout=Layout(width…"
      ]
     },
     "metadata": {},
     "output_type": "display_data"
    }
   ],
   "source": [
    "print(\"Gaussian distribution of 3 random variables\")\n",
    "dparams = [{'value': 10_000, 'min':0,   'max':600_000, 'step':1000, 'description':'Count'},\n",
    "           {'value': 20_000, 'min':0,   'max':30_000,  'step':100,  'description':'mean'},\n",
    "           {'value': 1000,   'min':0,   'max':10_000,   'step':50,   'description':'std'} ]\n",
    "cnt_wdgt, p1_wdgt, p2_wdgt = [\n",
    "widgets.IntSlider(**dparams[0], continuous_update=False, layout=widgets.Layout(width='70%')),\n",
    "widgets.IntSlider(**dparams[1], continuous_update=False, layout=widgets.Layout(width='70%')),\n",
    "widgets.IntSlider(**dparams[2], continuous_update=False, layout=widgets.Layout(width='70%'))]\n",
    "\n",
    "widgets.interactive(error_interact_gauss, tr_cnt=cnt_wdgt, param1=p1_wdgt, param2=p2_wdgt, stage=2)"
   ]
  },
  {
   "cell_type": "code",
   "execution_count": 23,
   "metadata": {},
   "outputs": [
    {
     "name": "stdout",
     "output_type": "stream",
     "text": [
      "Gaussian distribution of 3 random variables with detrending\n"
     ]
    },
    {
     "data": {
      "application/vnd.jupyter.widget-view+json": {
       "model_id": "f42796bc0d414577979a01c2cbb1d60f",
       "version_major": 2,
       "version_minor": 0
      },
      "text/plain": [
       "interactive(children=(IntSlider(value=10000, continuous_update=False, description='Count', layout=Layout(width…"
      ]
     },
     "metadata": {},
     "output_type": "display_data"
    }
   ],
   "source": [
    "print(\"Gaussian distribution of 3 random variables with detrending\")\n",
    "dparams = [{'value': 10_000, 'min':0, 'max':700_000, 'step':1000, 'description':'Count'},\n",
    "           {'value': 20_000, 'min':0, 'max':30_000,  'step':100,  'description':'mean'},\n",
    "           {'value': 300,   'min':0, 'max':2_000,   'step':10,   'description':'std'} ]\n",
    "cnt_wdgt, p1_wdgt, p2_wdgt = [\n",
    "    widgets.IntSlider(**dparams[0], continuous_update=False, layout=widgets.Layout(width='70%')),\n",
    "    widgets.IntSlider(**dparams[1], continuous_update=False, layout=widgets.Layout(width='70%')),\n",
    "    widgets.IntSlider(**dparams[2], continuous_update=False, layout=widgets.Layout(width='70%'))]\n",
    "\n",
    "widgets.interactive(error_interact_gauss_detrend, tr_cnt=cnt_wdgt, param1=p1_wdgt, param2=p2_wdgt, stage=2)"
   ]
  },
  {
   "cell_type": "markdown",
   "metadata": {},
   "source": [
    "# Other distributions"
   ]
  },
  {
   "cell_type": "code",
   "execution_count": 24,
   "metadata": {},
   "outputs": [
    {
     "data": {
      "application/vnd.jupyter.widget-view+json": {
       "model_id": "a9a54440034a4af09b8f868edbe3bb92",
       "version_major": 2,
       "version_minor": 0
      },
      "text/plain": [
       "interactive(children=(IntSlider(value=10000, continuous_update=False, description='Count', layout=Layout(width…"
      ]
     },
     "metadata": {},
     "output_type": "display_data"
    }
   ],
   "source": [
    "dparams = [{'value': 10_000, 'min':100,     'max':100_000, 'step':1000, 'description':'Count'},\n",
    "           {'value': 19_000, 'min':-30_000, 'max':40_000,  'step':20,   'description':'LBound'},\n",
    "           {'value': 21_000, 'min':-30_000, 'max':40_000,  'step':20,   'description':'UBound'} ]\n",
    "cnt_wdgt, p1_wdgt, p2_wdgt = [\n",
    "widgets.IntSlider(**dparams[0], continuous_update=False, layout=widgets.Layout(width='750px')),\n",
    "widgets.IntSlider(**dparams[1], continuous_update=False, layout=widgets.Layout(width='750px')),\n",
    "widgets.IntSlider(**dparams[2], continuous_update=False, layout=widgets.Layout(width='750px'))]\n",
    "\n",
    "widgets.interactive(error_interact_uniform, tr_cnt=cnt_wdgt, param1=p1_wdgt, param2=p2_wdgt)"
   ]
  }
 ],
 "metadata": {
  "kernelspec": {
   "display_name": "Python 3",
   "language": "python",
   "name": "python3"
  },
  "language_info": {
   "codemirror_mode": {
    "name": "ipython",
    "version": 3
   },
   "file_extension": ".py",
   "mimetype": "text/x-python",
   "name": "python",
   "nbconvert_exporter": "python",
   "pygments_lexer": "ipython3",
   "version": "3.8.8"
  }
 },
 "nbformat": 4,
 "nbformat_minor": 2
}
